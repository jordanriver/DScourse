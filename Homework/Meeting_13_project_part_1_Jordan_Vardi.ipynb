{
 "cells": [
  {
   "cell_type": "markdown",
   "id": "ec7c5431",
   "metadata": {},
   "source": [
    "### Easy Questions (Focusing on Coding Aspects of EDA)"
   ]
  },
  {
   "cell_type": "code",
   "execution_count": null,
   "id": "c00bf1b5",
   "metadata": {},
   "outputs": [],
   "source": []
  },
  {
   "cell_type": "markdown",
   "id": "ad2c200d",
   "metadata": {},
   "source": [
    "1. How do you load the House Prices dataset into a Pandas DataFrame?"
   ]
  },
  {
   "cell_type": "code",
   "execution_count": null,
   "id": "3fc827b7",
   "metadata": {},
   "outputs": [],
   "source": []
  },
  {
   "cell_type": "markdown",
   "id": "598300c3",
   "metadata": {},
   "source": [
    "2. Write a code to display the first 10 rows of the dataset."
   ]
  },
  {
   "cell_type": "code",
   "execution_count": null,
   "id": "a0f4789e",
   "metadata": {},
   "outputs": [],
   "source": []
  },
  {
   "cell_type": "markdown",
   "id": "4e9ac2d8",
   "metadata": {},
   "source": [
    "3. How can you check for missing values in the dataset?"
   ]
  },
  {
   "cell_type": "code",
   "execution_count": null,
   "id": "b68c31e5",
   "metadata": {},
   "outputs": [],
   "source": []
  },
  {
   "cell_type": "markdown",
   "id": "31fdfe62",
   "metadata": {},
   "source": [
    "4. Write a Python script to calculate the mean, median, and standard deviation of 'SalePrice'."
   ]
  },
  {
   "cell_type": "code",
   "execution_count": null,
   "id": "c855a578",
   "metadata": {},
   "outputs": [],
   "source": []
  },
  {
   "cell_type": "markdown",
   "id": "139bf4db",
   "metadata": {},
   "source": [
    "5. Create a histogram of the 'LotArea' feature."
   ]
  },
  {
   "cell_type": "code",
   "execution_count": null,
   "id": "064e01da",
   "metadata": {},
   "outputs": [],
   "source": []
  },
  {
   "cell_type": "markdown",
   "id": "e9e82f37",
   "metadata": {},
   "source": [
    "6. How do you generate a box plot for the 'YearBuilt' feature using Seaborn?"
   ]
  },
  {
   "cell_type": "code",
   "execution_count": null,
   "id": "c93b00d7",
   "metadata": {},
   "outputs": [],
   "source": []
  },
  {
   "cell_type": "markdown",
   "id": "547030c4",
   "metadata": {},
   "source": [
    "7. Write a code to list all column names in the dataset."
   ]
  },
  {
   "cell_type": "code",
   "execution_count": null,
   "id": "c33f5d7c",
   "metadata": {},
   "outputs": [],
   "source": []
  },
  {
   "cell_type": "markdown",
   "id": "3a566010",
   "metadata": {},
   "source": [
    "8. How can you filter out houses with 'SalePrice' above $300,000?"
   ]
  },
  {
   "cell_type": "code",
   "execution_count": null,
   "id": "c29ee0af",
   "metadata": {},
   "outputs": [],
   "source": []
  },
  {
   "cell_type": "markdown",
   "id": "c452beb5",
   "metadata": {},
   "source": [
    "9. Create a bar plot showing the count of houses for each 'OverallQual' rating."
   ]
  },
  {
   "cell_type": "code",
   "execution_count": null,
   "id": "b4af2a07",
   "metadata": {},
   "outputs": [],
   "source": []
  },
  {
   "cell_type": "markdown",
   "id": "cbe280bf",
   "metadata": {},
   "source": [
    "10. Write a Python script to display summary statistics for all numerical features."
   ]
  },
  {
   "cell_type": "code",
   "execution_count": null,
   "id": "2aa704f3",
   "metadata": {},
   "outputs": [],
   "source": []
  },
  {
   "cell_type": "markdown",
   "id": "e7f62069",
   "metadata": {},
   "source": [
    "### Medium Questions (Gaining Insights from EDA)"
   ]
  },
  {
   "cell_type": "code",
   "execution_count": null,
   "id": "2812ff35",
   "metadata": {},
   "outputs": [],
   "source": []
  },
  {
   "cell_type": "markdown",
   "id": "f2ced0b7",
   "metadata": {},
   "source": [
    "11. Analyze the distribution of 'SalePrice' and identify its skewness."
   ]
  },
  {
   "cell_type": "code",
   "execution_count": null,
   "id": "8ca03ec5",
   "metadata": {},
   "outputs": [],
   "source": []
  },
  {
   "cell_type": "markdown",
   "id": "2dc5c7d0",
   "metadata": {},
   "source": [
    "12. Explore the relationship between 'TotalBsmtSF' and 'SalePrice' using a scatter plot. What insights can you gather?"
   ]
  },
  {
   "cell_type": "code",
   "execution_count": null,
   "id": "cc5a418a",
   "metadata": {},
   "outputs": [],
   "source": []
  },
  {
   "cell_type": "markdown",
   "id": "7df203d8",
   "metadata": {},
   "source": [
    "13. Investigate the impact of 'YearBuilt' on 'SalePrice' - does newer mean pricier?"
   ]
  },
  {
   "cell_type": "code",
   "execution_count": null,
   "id": "79a83031",
   "metadata": {},
   "outputs": [],
   "source": []
  },
  {
   "cell_type": "markdown",
   "id": "126816d1",
   "metadata": {},
   "source": [
    "14. Perform a groupby operation to find the average 'SalePrice' per 'Neighborhood'."
   ]
  },
  {
   "cell_type": "code",
   "execution_count": null,
   "id": "8e8bba71",
   "metadata": {},
   "outputs": [],
   "source": []
  },
  {
   "cell_type": "markdown",
   "id": "e2f5fe77",
   "metadata": {},
   "source": [
    "15. Create a correlation matrix for numerical features. Which features are most correlated with 'SalePrice'?"
   ]
  },
  {
   "cell_type": "code",
   "execution_count": null,
   "id": "03297b0d",
   "metadata": {},
   "outputs": [],
   "source": []
  },
  {
   "cell_type": "markdown",
   "id": "29582759",
   "metadata": {},
   "source": [
    "16. Compare the distribution of 'SalePrice' between houses with and without central air conditioning."
   ]
  },
  {
   "cell_type": "code",
   "execution_count": null,
   "id": "b699a847",
   "metadata": {},
   "outputs": [],
   "source": []
  },
  {
   "cell_type": "markdown",
   "id": "b0860f0c",
   "metadata": {},
   "source": [
    "17. Analyze if there is a significant difference in 'SalePrice' based on 'GarageType'."
   ]
  },
  {
   "cell_type": "code",
   "execution_count": null,
   "id": "fe89ef48",
   "metadata": {},
   "outputs": [],
   "source": []
  },
  {
   "cell_type": "markdown",
   "id": "d0a25fea",
   "metadata": {},
   "source": [
    "18. Investigate the effect of 'LotFrontage' on 'SalePrice'. Is there a trend?"
   ]
  },
  {
   "cell_type": "code",
   "execution_count": null,
   "id": "046335bd",
   "metadata": {},
   "outputs": [],
   "source": []
  },
  {
   "cell_type": "markdown",
   "id": "b8a4e25b",
   "metadata": {},
   "source": [
    "19. Use a box plot to compare the 'SalePrice' distribution across different 'HouseStyle'."
   ]
  },
  {
   "cell_type": "code",
   "execution_count": null,
   "id": "90d30a07",
   "metadata": {},
   "outputs": [],
   "source": []
  },
  {
   "cell_type": "markdown",
   "id": "0b978fda",
   "metadata": {},
   "source": [
    "20. Explore how 'OverallCond' affects the 'SalePrice'. Is better condition always associated with higher prices?"
   ]
  },
  {
   "cell_type": "code",
   "execution_count": null,
   "id": "7c288fd1",
   "metadata": {},
   "outputs": [],
   "source": []
  },
  {
   "cell_type": "markdown",
   "id": "8ec1ca4b",
   "metadata": {},
   "source": [
    "### Hard Questions (Learning from Data through EDA)"
   ]
  },
  {
   "cell_type": "code",
   "execution_count": null,
   "id": "87705ce1",
   "metadata": {},
   "outputs": [],
   "source": []
  },
  {
   "cell_type": "markdown",
   "id": "7595e3a5",
   "metadata": {},
   "source": [
    "21. What features strongly influence the 'SalePrice'? Justify with statistical evidence."
   ]
  },
  {
   "cell_type": "code",
   "execution_count": null,
   "id": "0edeab18",
   "metadata": {},
   "outputs": [],
   "source": []
  },
  {
   "cell_type": "markdown",
   "id": "061083e5",
   "metadata": {},
   "source": [
    "22. Is there a pattern between the number of bedrooms ('BedroomAbvGr') and the sale price? Analyze and interpret."
   ]
  },
  {
   "cell_type": "code",
   "execution_count": null,
   "id": "1595b0d4",
   "metadata": {},
   "outputs": [],
   "source": []
  },
  {
   "cell_type": "markdown",
   "id": "2993ca94",
   "metadata": {},
   "source": [
    "23. Identify outliers in 'GrLivArea' and discuss how they might affect the model."
   ]
  },
  {
   "cell_type": "code",
   "execution_count": null,
   "id": "bc149d42",
   "metadata": {},
   "outputs": [],
   "source": []
  },
  {
   "cell_type": "markdown",
   "id": "4ed2d46d",
   "metadata": {},
   "source": [
    "24. Explore the possibility of new feature creation. For instance, combine 'TotalBsmtSF' and '1stFlrSF' into a new feature and analyze its impact."
   ]
  },
  {
   "cell_type": "code",
   "execution_count": null,
   "id": "bd7077bb",
   "metadata": {},
   "outputs": [],
   "source": []
  },
  {
   "cell_type": "markdown",
   "id": "a9c19528",
   "metadata": {},
   "source": [
    "25. Discuss the potential effect of multicollinearity in the dataset."
   ]
  },
  {
   "cell_type": "code",
   "execution_count": null,
   "id": "03f2267a",
   "metadata": {},
   "outputs": [],
   "source": []
  },
  {
   "cell_type": "markdown",
   "id": "a19180c6",
   "metadata": {},
   "source": [
    "26. Evaluate the relationship between 'SalePrice' and categorical variables like 'MSZoning'. How can these insights guide feature engineering?"
   ]
  },
  {
   "cell_type": "code",
   "execution_count": null,
   "id": "931b500a",
   "metadata": {},
   "outputs": [],
   "source": []
  },
  {
   "cell_type": "markdown",
   "id": "4245c225",
   "metadata": {},
   "source": [
    "27. Predict if a house has a 'FireplaceQu' based on its 'SalePrice'. What patterns do you observe?"
   ]
  },
  {
   "cell_type": "code",
   "execution_count": null,
   "id": "f322e313",
   "metadata": {},
   "outputs": [],
   "source": []
  },
  {
   "cell_type": "markdown",
   "id": "205c90b4",
   "metadata": {},
   "source": [
    "28. Investigate how seasonal factors (like month of sale) impact 'SalePrice'."
   ]
  },
  {
   "cell_type": "code",
   "execution_count": null,
   "id": "5c0d0a01",
   "metadata": {},
   "outputs": [],
   "source": []
  },
  {
   "cell_type": "markdown",
   "id": "f0d2b049",
   "metadata": {},
   "source": [
    "29. Can 'BsmtQual' and 'BsmtCond' be combined into a single feature for a more effective analysis? Provide statistical reasoning."
   ]
  },
  {
   "cell_type": "code",
   "execution_count": null,
   "id": "dd1e10ce",
   "metadata": {},
   "outputs": [],
   "source": []
  },
  {
   "cell_type": "markdown",
   "id": "1ac10db9",
   "metadata": {},
   "source": [
    "30. Explore the effect of remodeling ('YearRemodAdd') on 'SalePrice'. Does recent remodeling significantly increase the house value? "
   ]
  },
  {
   "cell_type": "code",
   "execution_count": null,
   "id": "bee7712f",
   "metadata": {},
   "outputs": [],
   "source": []
  }
 ],
 "metadata": {
  "language_info": {
   "name": "python"
  }
 },
 "nbformat": 4,
 "nbformat_minor": 2
}
