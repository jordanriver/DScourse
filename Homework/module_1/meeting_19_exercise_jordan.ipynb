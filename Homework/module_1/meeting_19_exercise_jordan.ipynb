version https://git-lfs.github.com/spec/v1
oid sha256:ff45aae6d0011ff3a866eefa669dfdbd1bee3b05da7a0c8b4d60507682dd3746
size 228841
