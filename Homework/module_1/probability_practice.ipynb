{
 "cells": [
  {
   "cell_type": "markdown",
   "metadata": {},
   "source": [
    "A bag contains 7 red, 5 green, and 8 blue balls. If two balls are drawn randomly, what is the probability that both are green?"
   ]
  },
  {
   "cell_type": "code",
   "execution_count": 1,
   "metadata": {},
   "outputs": [],
   "source": [
    "import pandas as pd\n",
    "import numpy as np"
   ]
  },
  {
   "cell_type": "code",
   "execution_count": 12,
   "metadata": {},
   "outputs": [
    {
     "name": "stdout",
     "output_type": "stream",
     "text": [
      "0.35\n"
     ]
    }
   ],
   "source": [
    "\n",
    "number_of_balls = (7+5+8)\n",
    "probability_of_red = 7/number_of_balls\n",
    "probability_of_green = 5/number_of_balls\n",
    "probability_of_blue = 8/number_of_balls\n",
    "\n",
    "df = pd.DataFrame(np.random.random(100), columns=['random_number'])\n",
    "print(probability_of_red)\n",
    "# df['is_red'] = df['random_number'] <= 0.35\n",
    "df['is_red'] = df['random_number'] <= probability_of_red\n",
    "df['is_green'] = (df['random_number'] > probability_of_red) & (df['random_number'] <= (probability_of_red + probability_of_green))\n",
    "df['is_blue'] = df['random_number'] > (probability_of_red + probability_of_green)"
   ]
  },
  {
   "cell_type": "code",
   "execution_count": 15,
   "metadata": {},
   "outputs": [
    {
     "data": {
      "text/plain": [
       "10"
      ]
     },
     "execution_count": 15,
     "metadata": {},
     "output_type": "execute_result"
    }
   ],
   "source": [
    "# calculate the probability that two balls are green one after the other\n",
    "\n",
    "df[df['is_green'] & df['is_green'].shift(1)]['is_green'].sum()"
   ]
  }
 ],
 "metadata": {
  "kernelspec": {
   "display_name": "Python 3",
   "language": "python",
   "name": "python3"
  },
  "language_info": {
   "codemirror_mode": {
    "name": "ipython",
    "version": 3
   },
   "file_extension": ".py",
   "mimetype": "text/x-python",
   "name": "python",
   "nbconvert_exporter": "python",
   "pygments_lexer": "ipython3",
   "version": "3.11.3"
  }
 },
 "nbformat": 4,
 "nbformat_minor": 2
}
