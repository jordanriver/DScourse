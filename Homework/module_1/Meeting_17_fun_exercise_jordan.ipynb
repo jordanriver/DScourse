version https://git-lfs.github.com/spec/v1
oid sha256:f4d1cc2bcf3515e6f530bbb3cc8746f2071b9d1350d24951db2ffdfdb56c0718
size 938345
