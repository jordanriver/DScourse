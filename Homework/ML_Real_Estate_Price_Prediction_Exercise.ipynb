{
 "cells": [
  {
   "cell_type": "markdown",
   "id": "e4cd94a5",
   "metadata": {},
   "source": [
    "# Exercise: Application of Machine Learning in Real Estate Price Prediction\n",
    "\n",
    "## Objective:\n",
    "Understand and apply machine learning techniques to predict housing prices using the Kaggle dataset.\n"
   ]
  },
  {
   "cell_type": "code",
   "execution_count": 1,
   "id": "2da11489",
   "metadata": {},
   "outputs": [],
   "source": [
    "import pandas as pd\n",
    "import numpy as np\n",
    "import matplotlib.pyplot as plt\n",
    "import seaborn as sns\n",
    "from sklearn.ensemble import RandomForestRegressor\n",
    "from sklearn.model_selection import train_test_split\n",
    "from sklearn.model_selection import cross_val_score\n",
    "from sklearn.model_selection import GridSearchCV\n",
    "from sklearn.impute import SimpleImputer\n",
    "from sklearn.preprocessing import OneHotEncoder\n",
    "from sklearn.compose import ColumnTransformer\n",
    "from sklearn.pipeline import Pipeline   \n",
    "import pickle\n",
    "import os\n",
    "import warnings\n",
    "from scipy.stats import skew, norm\n",
    "from scipy import stats\n",
    "\n",
    "%matplotlib inline\n",
    "%load_ext autoreload"
   ]
  },
  {
   "cell_type": "code",
   "execution_count": 2,
   "id": "478f779b",
   "metadata": {},
   "outputs": [],
   "source": [
    "def ignore_warn(*args, **kwargs):\n",
    "    pass\n",
    "warnings.warn = ignore_warn #ignore annoying warning (from sklearn and seaborn)\n",
    "\n",
    "pd.set_option('display.float_format', lambda x: '{:.3f}'.format(x)) #Limiting floats output to 3 decimal points"
   ]
  },
  {
   "cell_type": "code",
   "execution_count": 3,
   "id": "b3d4ccf1",
   "metadata": {},
   "outputs": [],
   "source": [
    "# Set the option to display all rows\n",
    "pd.set_option('display.max_rows', None)\n",
    "\n",
    "# Set the option to display all columns\n",
    "pd.set_option('display.max_columns', None)"
   ]
  },
  {
   "cell_type": "code",
   "execution_count": 4,
   "id": "3a9f3d5d",
   "metadata": {},
   "outputs": [],
   "source": [
    "df = pd.read_csv(r'C:\\Users\\jorda\\Documents\\studies\\DScourse\\CourseMaterials\\Data\\home-data-for-ml-course\\train.csv')\n",
    "df_test = pd.read_csv(r'C:\\Users\\jorda\\Documents\\studies\\DScourse\\CourseMaterials\\Data\\home-data-for-ml-course\\test.csv')\n",
    "\n",
    "df_orig = df.copy()\n",
    "df_test_orig = df_test.copy()"
   ]
  },
  {
   "cell_type": "markdown",
   "id": "5a1d9ff3",
   "metadata": {},
   "source": [
    "### Functions and Classes Used:"
   ]
  },
  {
   "cell_type": "code",
   "execution_count": 5,
   "id": "4d3356e7",
   "metadata": {},
   "outputs": [],
   "source": [
    "# Divide the data into numerical and categorical features\n",
    "def divide_features(df):\n",
    "    numerical_features = df.select_dtypes(include=[np.number])\n",
    "    categorical_features = df.select_dtypes(include=[object])\n",
    "    return numerical_features, categorical_features\n",
    "\n",
    "def convert_to_columns_list(df):\n",
    "    columns_list = df.columns.tolist()\n",
    "    return columns_list\n",
    "\n",
    "# Display a subplots of the numerical features.\n",
    "# Two subplots are created for each feature. The first subplot is a histogram of the feature with 100 bins and the second subplot is a scatter plot of the feature vs the target variable.\n",
    "# The scatter plot helps to identify outliers.\n",
    "def display_numerical_features(df, features, target):\n",
    "    for feature in features:\n",
    "        fig, axs = plt.subplots(ncols=2, figsize=(12, 4))\n",
    "        sns.distplot(df[feature], fit=norm, ax=axs[0], bins=100)\n",
    "        sns.scatterplot(x=feature, y=target, data=df, ax=axs[1])\n",
    "        plt.show()\n",
    "\n",
    "# Display a subplots of the categorical features.\n",
    "# Two subplots are created for each feature. The first subplot is a count plot of the feature and the second subplot is a box plot of the feature vs the target variable.\n",
    "# The box plot helps to identify outliers.\n",
    "def display_categorical_features(df, features, target):\n",
    "    for feature in features:\n",
    "        fig, axs = plt.subplots(ncols=2, figsize=(12, 4))\n",
    "        sns.countplot(x=feature, data=df, ax=axs[0])\n",
    "        sns.boxplot(x=feature, y=target, data=df, ax=axs[1])\n",
    "        plt.show()\n",
    "\n",
    "# Display missing values for numerical features\n",
    "def display_missing_values(df):\n",
    "    missing_values = df.isnull().sum().sort_values(ascending=False)\n",
    "    missing_values = missing_values[missing_values > 0]\n",
    "    missing_values = pd.DataFrame(missing_values, columns=['Missing Values'])\n",
    "    missing_values['Percentage'] = missing_values['Missing Values'] / df.shape[0]\n",
    "    return missing_values\n",
    "\n",
    "# Build a pipeline that contains a preprocessor to impute missing values for numerical features with the median value of each feature, \n",
    "# impute missing values for categorical features with most frequent values, \n",
    "# and one hot encode categorical features, and a RandomForestRegressor model.\n",
    "def build_pipeline(numerical_columns, categorical_columns):\n",
    "    # Preprocessor for numerical data\n",
    "    numerical_transformer = SimpleImputer(strategy='median')\n",
    "\n",
    "    # Preprocessor for categorical data\n",
    "    categorical_transformer = Pipeline(steps=[\n",
    "        ('imputer', SimpleImputer(strategy='most_frequent')),\n",
    "        ('onehot', OneHotEncoder(handle_unknown='ignore', sparse_output=False))\n",
    "    ])\n",
    "\n",
    "    # Bundle preprocessing for numerical and categorical data\n",
    "    preprocessor = ColumnTransformer(\n",
    "        transformers=[\n",
    "            ('num', numerical_transformer, numerical_columns),\n",
    "            ('cat', categorical_transformer, categorical_columns)\n",
    "        ])\n",
    "\n",
    "    # Define model\n",
    "    model = RandomForestRegressor(random_state=42)\n",
    "\n",
    "    # Bundle preprocessing and modeling code in a pipeline\n",
    "    pipeline = Pipeline(steps=[('preprocessor', preprocessor),\n",
    "                            ('model', model)\n",
    "                            ])\n",
    "    return pipeline\n",
    "\n",
    "# Impute missing values of categorical features based on the markdown above\n",
    "def impute_no_feature(df, feature_list):\n",
    "    for feature in feature_list:\n",
    "        df[feature] = df[feature].fillna(f'No {feature}')\n",
    "\n",
    "def cross_validate_estimator(estimator, X, y, cv):\n",
    "    # Cross-Validation\n",
    "    cv_scores = cross_val_score(estimator, X, y, cv=cv)\n",
    "    print(f\"Cross-validation scores: {cv_scores}, scores average: {cv_scores.mean(), 'std: ', cv_scores.std()}\\n\\n\")\n",
    "\n",
    "    cv_scores_mse = -1 * cross_val_score(estimator, X, y, cv=cv, scoring='neg_mean_squared_error')\n",
    "    print(f\"Cross-validation scores: {cv_scores_mse}, scores average: {cv_scores_mse.mean(), 'std: ', cv_scores_mse.std()}\")\n",
    "\n",
    "def convert_to_categorical(df, df_num, df_cat, columns, num_features, cat_features):\n",
    "    for col in columns:\n",
    "        df_num.drop(col, axis=1)\n",
    "        num_features = df_num.columns.to_list()\n",
    "                \n",
    "        cat_features.append(col)\n",
    "        df_cat[col] = df[col]\n",
    "    return num_features, cat_features"
   ]
  },
  {
   "cell_type": "markdown",
   "id": "9112b592",
   "metadata": {},
   "source": [
    "## Preparation\n",
    "\n",
    "### Short EDAs"
   ]
  },
  {
   "cell_type": "code",
   "execution_count": 6,
   "id": "cd9fe1a0",
   "metadata": {},
   "outputs": [],
   "source": [
    "# create a target variable\n",
    "y = df['SalePrice']\n",
    "\n",
    "df_train_num, df_train_cat = divide_features(df.drop(['SalePrice', 'Id'], axis=1))\n",
    "df_test_num, df_test_cat = divide_features(df_test.drop(['Id'], axis=1))\n",
    "\n",
    "# Create a list of numerical and categorical features\n",
    "num_features = convert_to_columns_list(df_train_num)\n",
    "cat_features = convert_to_columns_list(df_train_cat)\n",
    "\n",
    "# Create a list of all features\n",
    "all_features = convert_to_columns_list(df_train_num) + convert_to_columns_list(df_train_cat)"
   ]
  },
  {
   "cell_type": "code",
   "execution_count": 7,
   "id": "c52a131d",
   "metadata": {},
   "outputs": [
    {
     "name": "stdout",
     "output_type": "stream",
     "text": [
      "Skewness: 1.882876\n",
      "Kurtosis: 6.536282\n"
     ]
    },
    {
     "data": {
      "image/png": "[encoded data removed]",
      "text/plain": [
       "<Figure size 640x480 with 1 Axes>"
      ]
     },
     "metadata": {},
     "output_type": "display_data"
    },
    {
     "data": {
      "image/png": "[encoded data removed]",
      "text/plain": [
       "<Figure size 640x480 with 1 Axes>"
      ]
     },
     "metadata": {},
     "output_type": "display_data"
    }
   ],
   "source": [
    "# Describe the target variable\n",
    "y.describe()\n",
    "\n",
    "# Plot the distribution of the target variable and show the skewness and kurtosis as well as compare it to a normal distribution\n",
    "sns.distplot(y, fit=norm, bins=100, kde=True);\n",
    "fig = plt.figure()\n",
    "res = stats.probplot(y, plot=plt)\n",
    "\n",
    "# Skewness and kurtosis\n",
    "print(\"Skewness: %f\" % y.skew())\n",
    "print(\"Kurtosis: %f\" % y.kurt())"
   ]
  },
  {
   "cell_type": "code",
   "execution_count": 8,
   "id": "a1778dcf",
   "metadata": {},
   "outputs": [],
   "source": [
    "# display_numerical_features(df=df_train_num, features=num_features, target=y)"
   ]
  },
  {
   "cell_type": "markdown",
   "id": "353f0eeb",
   "metadata": {},
   "source": [
    "- There are features that should be categorical but are numerical. We will convert them to categorical features:\n",
    "    - MSSubClass\n",
    "    - MoSold\n",
    "    - YrSold\n",
    "    - OverallQual\n",
    "    - OverallCond\n",
    "    - BsmtFullBath\n",
    "    - BsmtHalfBath\n",
    "    - FullBath\n",
    "    - HalfBath\n",
    "    - BedroomAbvGr\n",
    "    - KitchenAbvGr\n",
    "    - TotRmsAbvGrd\n",
    "    - Fireplaces\n",
    "    - GarageCars\n",
    "    - PoolArea\n",
    "    - MiscVal"
   ]
  },
  {
   "cell_type": "code",
   "execution_count": 9,
   "id": "9526c4f1",
   "metadata": {},
   "outputs": [],
   "source": [
    "# display_categorical_features(df=df_train_cat, features=cat_features, target=y)"
   ]
  },
  {
   "cell_type": "markdown",
   "id": "9541626e",
   "metadata": {},
   "source": [
    "## Part 1: Data Preprocessing and Feature Engineering\n",
    "- Task: Handle missing values and categorize data in the dataset.\n",
    "- Use techniques learned in Meeting 15 to deal with missing values and categories.\n",
    "- Feature Engineering:\n",
    "    - Implement fixed-width and quantile-based binning strategies from Meeting 16.\n",
    "    - Document the rationale behind choosing specific bins and the impact on the dataset.\n"
   ]
  },
  {
   "cell_type": "code",
   "execution_count": 10,
   "id": "35c4abbc",
   "metadata": {},
   "outputs": [
    {
     "name": "stdout",
     "output_type": "stream",
     "text": [
      "Missing values for numerical features in the training data:\n",
      "             Missing Values  Percentage\n",
      "LotFrontage             259       0.177\n",
      "GarageYrBlt              81       0.055\n",
      "MasVnrArea                8       0.005\n",
      "\n",
      "Missing values for categorical features in the training data:\n",
      "              Missing Values  Percentage\n",
      "PoolQC                  1453       0.995\n",
      "MiscFeature             1406       0.963\n",
      "Alley                   1369       0.938\n",
      "Fence                   1179       0.808\n",
      "MasVnrType               872       0.597\n",
      "FireplaceQu              690       0.473\n",
      "GarageType                81       0.055\n",
      "GarageCond                81       0.055\n",
      "GarageQual                81       0.055\n",
      "GarageFinish              81       0.055\n",
      "BsmtFinType2              38       0.026\n",
      "BsmtExposure              38       0.026\n",
      "BsmtFinType1              37       0.025\n",
      "BsmtQual                  37       0.025\n",
      "BsmtCond                  37       0.025\n",
      "Electrical                 1       0.001\n",
      "\n",
      "Missing values for numerical features in the test data:\n",
      "\n",
      "Missing values for categorical features in the test data:\n",
      "\n"
     ]
    }
   ],
   "source": [
    "# Display missing values for numerical features in the training data\n",
    "print(\"Missing values for numerical features in the training data:\")\n",
    "print(display_missing_values(df_train_num))\n",
    "print()\n",
    "\n",
    "# Display missing values for categorical features in the training data\n",
    "print(\"Missing values for categorical features in the training data:\")\n",
    "print(display_missing_values(df_train_cat))\n",
    "print()\n",
    "\n",
    "# Display missing values for numerical features in the test data\n",
    "print(\"Missing values for numerical features in the test data:\")\n",
    "display_missing_values(df_test_num)\n",
    "print()\n",
    "\n",
    "# Display missing values for categorical features in the test data\n",
    "print(\"Missing values for categorical features in the test data:\")\n",
    "display_missing_values(df_test_cat)\n",
    "print()"
   ]
  },
  {
   "cell_type": "markdown",
   "id": "c882c176",
   "metadata": {},
   "source": [
    "- Choose which strategy to use to impute each numerical feature:\n",
    "    - 'LotFrontage': 'Zero'\n",
    "    - 'MasVnrArea': 'mean' (will leave to the imputer)\n",
    "    - 'GarageYrBlt': 'Zero'\n",
    "- Choose which strategy to use to impute each categorical feature:\n",
    "    - 'Alley': 'No alley access'\n",
    "    - 'MasVnrType': 'No veneer'\n",
    "    - 'BsmtQual': 'No Basement'\n",
    "    - 'BsmtCond': 'No Basement'\n",
    "    - 'BsmtExposure': 'No Basement'\n",
    "    - 'BsmtFinType1': 'None'\n",
    "    - 'BsmtFinType2': 'None'\n",
    "    - 'Electrical': 'Most common value' (will leave to the imputer)\n",
    "    - 'FireplaceQu': 'No Fireplace'\n",
    "    - 'GarageType': 'No Garage'\n",
    "    - 'GarageFinish': 'No Garage'\n",
    "    - 'GarageQual': 'No Garage'\n",
    "    - 'GarageCond': 'No Garage'\n",
    "    - 'PoolQC': 'No Pool'\n",
    "    - 'Fence': 'No Fence'\n",
    "    - 'MiscFeature': 'None'\n",
    "\n",
    "*** We do the imputation manually because in many of the features missing values actually mean lack of that feature."
   ]
  },
  {
   "cell_type": "code",
   "execution_count": 11,
   "id": "8824488e",
   "metadata": {},
   "outputs": [],
   "source": [
    "# Impute missing values of numerical features based on the markdown above\n",
    "df['LotFrontage'] = df['LotFrontage'].fillna(0)\n",
    "\n",
    "df['YearBuilt'] = df['YearBuilt'].fillna(0)"
   ]
  },
  {
   "cell_type": "code",
   "execution_count": 12,
   "id": "805bac2c",
   "metadata": {},
   "outputs": [],
   "source": [
    "# Impute missing values of categorical features based on the markdown above\n",
    "\n",
    "# Find all missing value columns and put their names in a list\n",
    "cat_features_with_missing = display_missing_values(df_train_cat).index.to_list()\n",
    "cat_features_with_missing.remove('MiscFeature') # Remove 'MiscFeature' in order to impute separately\n",
    "\n",
    "# Manually impute categorical features\n",
    "impute_no_feature(df=df, feature_list=cat_features_with_missing)\n",
    "\n",
    "df['MiscFeature'] = df['MiscFeature'].fillna('None')"
   ]
  },
  {
   "cell_type": "markdown",
   "id": "41918883",
   "metadata": {},
   "source": [
    "## Part 2: Baseline Model Creation and Evaluation\n",
    "- Baseline Model: Construct a baseline model using the Random Forest algorithm and the features engineered in Part 1.\n",
    "- Evaluation:\n",
    "    - Perform k-fold cross-validation.\n",
    "    - Use default scoring and negative mean squared error metrics.\n",
    "- Task: Plot and analyze the feature importance graph to understand the impact of each feature.\n"
   ]
  },
  {
   "cell_type": "code",
   "execution_count": 13,
   "id": "c878985e",
   "metadata": {},
   "outputs": [],
   "source": [
    "# Move suspected categorical features from the numerical list to the categorical\n",
    "suspected_categorical = [\n",
    "    'MSSubClass',\n",
    "    'MoSold',\n",
    "    'YrSold',\n",
    "    'BsmtFullBath',\n",
    "    'BsmtHalfBath',\n",
    "    'FullBath',\n",
    "    'HalfBath',\n",
    "    'BedroomAbvGr',\n",
    "    'KitchenAbvGr',\n",
    "    'TotRmsAbvGrd',\n",
    "    'Fireplaces',\n",
    "    'GarageCars',\n",
    "    'PoolArea',\n",
    "    'MiscVal'\n",
    "]\n",
    "\n",
    "# Convert suspected categories to categorical in the training and testing data\n",
    "num_features, cat_features = convert_to_categorical(\n",
    "    df=df, \n",
    "    df_num=df_train_num, \n",
    "    df_cat=df_train_cat, \n",
    "    num_features=num_features, \n",
    "    cat_features=cat_features, \n",
    "    columns=suspected_categorical\n",
    "    )\n",
    "\n",
    "num_features_test, cat_features_test = convert_to_categorical(\n",
    "    df=df_test, \n",
    "    df_num=df_test_num, \n",
    "    df_cat=df_test_cat, \n",
    "    num_features=num_features, \n",
    "    cat_features=cat_features, \n",
    "    columns=suspected_categorical\n",
    ")"
   ]
  },
  {
   "cell_type": "code",
   "execution_count": 14,
   "id": "a9ca81d8",
   "metadata": {},
   "outputs": [
    {
     "name": "stdout",
     "output_type": "stream",
     "text": [
      "Cross-validation scores: [0.86766431 0.84364452 0.86822899 0.8790457  0.82686707], scores average: (0.8570901203571673, 'std: ', 0.019037606800775504)\n",
      "\n",
      "\n",
      "Cross-validation scores: [7.32164367e+08 1.02736021e+09 9.98534096e+08 6.12736914e+08\n",
      " 1.16092026e+09], scores average: (906343169.1293786, 'std: ', 202235839.42716604)\n"
     ]
    }
   ],
   "source": [
    "# Build the data pipeline\n",
    "rf_pipeline = build_pipeline(numerical_columns=num_features, categorical_columns=cat_features)\n",
    "\n",
    "# Remove target from base DataFrame\n",
    "X = df.drop('SalePrice', axis=1)\n",
    "\n",
    "# Fit the pipeline\n",
    "rf_pipeline.fit(X, y)\n",
    "\n",
    "# Cross validation\n",
    "cross_validate_estimator(estimator=rf_pipeline, X=X, y=y, cv=5)"
   ]
  },
  {
   "cell_type": "markdown",
   "id": "4046f489",
   "metadata": {},
   "source": [
    "## Part 3: Categorical Feature Transformation and Analysis\n",
    "- Feature Transformation:\n",
    "    - Convert 'OverallQual' and 'GarageCars' into categorical features.\n",
    "    - Analyze how this transformation affects feature importance.\n",
    "- Sale Price Estimation:\n",
    "    - Calculate the mean SalePrice per GrLivArea.\n",
    "    - Create a new column estimating the apartment price (GrLivArea * mean SalePrice).\n",
    "- Prediction and Kaggle Submission:\n",
    "    - Predict prices on the test dataset using the new features.\n",
    "    - Submit to Kaggle and document the score received.\n"
   ]
  },
  {
   "cell_type": "code",
   "execution_count": null,
   "id": "4582d755",
   "metadata": {},
   "outputs": [],
   "source": []
  },
  {
   "cell_type": "markdown",
   "id": "2817bb69",
   "metadata": {},
   "source": [
    "## Part 4: Advanced Methods and Model Enhancement\n",
    "- Custom Feature Engineering:\n",
    "    - Calculate mean price per area for each quality group.\n",
    "    - Use these values to create estimations based on apartment quality group and living area.\n",
    "    - Explore and create additional custom features to enhance model performance.\n",
    "    - Document the impact of these features on the model's accuracy.\n",
    "- Kaggle Competition and Stacked Regression:\n",
    "    - Integrate new features into the stacked regression notebook provided (link: Stacked Regressions Notebook).\n",
    "    - Submit the updated model to Kaggle and report the new score.\n"
   ]
  }
 ],
 "metadata": {
  "kernelspec": {
   "display_name": "Python 3",
   "language": "python",
   "name": "python3"
  },
  "language_info": {
   "codemirror_mode": {
    "name": "ipython",
    "version": 3
   },
   "file_extension": ".py",
   "mimetype": "text/x-python",
   "name": "python",
   "nbconvert_exporter": "python",
   "pygments_lexer": "ipython3",
   "version": "3.11.3"
  }
 },
 "nbformat": 4,
 "nbformat_minor": 5
}
