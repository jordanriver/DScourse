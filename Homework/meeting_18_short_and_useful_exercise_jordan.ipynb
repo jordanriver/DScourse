{
 "cells": [
  {
   "cell_type": "markdown",
   "metadata": {},
   "source": [
    "# Home Exercise: Kaggle Housing Prices - Data Preparation and Model Training \n",
    "## Objective \n",
    "Your task is to prepare the Kaggle Housing Prices dataset for machine learning and train a Random Forest model to predict housing prices. This exercise will help you understand how to handle categorical data, deal with missing values, and manage outliers in a real-world dataset. \n",
    "## Dataset \n",
    "The dataset (train.csv and test.csv) can be downloaded from the Kaggle Housing Prices Competition page. It contains various features related to houses and their sale prices. "
   ]
  },
  {
   "cell_type": "markdown",
   "metadata": {},
   "source": [
    "## Tasks \n",
    "### 1. Data Loading and Inspection\n",
    "- Load the training dataset from train.csv.\n",
    "- Inspect the data types of each column, focusing on distinguishing between categorical and numerical columns."
   ]
  },
  {
   "cell_type": "code",
   "execution_count": null,
   "metadata": {},
   "outputs": [],
   "source": []
  },
  {
   "cell_type": "markdown",
   "metadata": {},
   "source": [
    "### 2. Encode Categorical Variables\n",
    "- Identify categorical variables in the dataset.\n",
    "- Apply One-Hot Encoding to these categorical variables to convert them into a format suitable for machine learning models. "
   ]
  },
  {
   "cell_type": "code",
   "execution_count": null,
   "metadata": {},
   "outputs": [],
   "source": []
  },
  {
   "cell_type": "markdown",
   "metadata": {},
   "source": [
    "### 3. Handle Missing Values\n",
    "- Check for missing values in both categorical and numerical columns.\n",
    "- Impute missing values using appropriate strategies: \n",
    "    ■ For numerical columns, use the median value. \n",
    "    ■ For categorical columns, use the most frequent value (mode)."
   ]
  },
  {
   "cell_type": "code",
   "execution_count": null,
   "metadata": {},
   "outputs": [],
   "source": []
  },
  {
   "cell_type": "markdown",
   "metadata": {},
   "source": [
    "### 4. Deal with Outliers\n",
    "- Focus on the 'LotArea' feature for outlier analysis.\n",
    "- Calculate the Interquartile Range (IQR) and identify outliers.\n",
    "- Remove data points that are significantly higher or lower than the calculated upper and lower bounds."
   ]
  },
  {
   "cell_type": "code",
   "execution_count": null,
   "metadata": {},
   "outputs": [],
   "source": []
  },
  {
   "cell_type": "markdown",
   "metadata": {},
   "source": [
    "### 5. Model Training\n",
    "- Prepare the dataset for training a Random Forest model by dropping the target variable 'SalePrice' and any identifiers like 'Id'.\n",
    "- Train a Random Forest Regressor on the cleaned dataset. "
   ]
  },
  {
   "cell_type": "code",
   "execution_count": null,
   "metadata": {},
   "outputs": [],
   "source": []
  },
  {
   "cell_type": "markdown",
   "metadata": {},
   "source": [
    "### 6. Prepare the Test Data and Make Predictions\n",
    "- Load the test dataset from test.csv.\n",
    "- Apply the same preprocessing steps to the test data (encoding, imputation, and aligning columns).\n",
    "- Use the trained Random Forest model to make predictions on the test set. "
   ]
  },
  {
   "cell_type": "code",
   "execution_count": null,
   "metadata": {},
   "outputs": [],
   "source": []
  },
  {
   "cell_type": "markdown",
   "metadata": {},
   "source": [
    "### 7. Prepare Submission File\n",
    "- Create a submission file with predictions, formatted according to Kaggle's submission requirements. "
   ]
  },
  {
   "cell_type": "code",
   "execution_count": null,
   "metadata": {},
   "outputs": [],
   "source": []
  },
  {
   "cell_type": "markdown",
   "metadata": {},
   "source": [
    "### 8. Submit your file\n",
    "- Use the submit prediction button to submit the file in the kaggle competition page, what was the score?"
   ]
  },
  {
   "cell_type": "code",
   "execution_count": null,
   "metadata": {},
   "outputs": [],
   "source": []
  }
 ],
 "metadata": {
  "kernelspec": {
   "display_name": "Python 3",
   "language": "python",
   "name": "python3"
  },
  "language_info": {
   "name": "python",
   "version": "3.12.0"
  }
 },
 "nbformat": 4,
 "nbformat_minor": 2
}
