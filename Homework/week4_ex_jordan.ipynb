{
 "cells": [
  {
   "cell_type": "markdown",
   "metadata": {},
   "source": [
    "### Questions for Part 2: Data Manipulation with Pandas\n",
    "\n",
    "\n",
    "2. How can you select a specific column from a DataFrame?\n",
    "3. How would you select rows from a DataFrame based on a condition?\n",
    "4. What function would you use to calculate the average of a column in a DataFrame?\n",
    "5. How can you add a new column to an existing DataFrame?\n",
    "6. How do you modify the values of an existing column in a DataFrame?\n",
    "7. What is the output of `df['Name']` given the provided DataFrame example?\n",
    "8. How would you select rows where the 'City' is 'New York'?\n",
    "9. What function can be used to count the number of non-NA/null values in a column?\n",
    "10. How can you filter rows in a DataFrame where 'Age' is less than 30?\n",
    "11. How do you aggregate data in Pandas?\n",
    "12. What is the result of `df['Age'].sum()` given the provided DataFrame example?\n",
    "13. How can you rename a column in a DataFrame?\n",
    "14. How do you select multiple columns from a DataFrame?\n",
    "15. How would you filter rows based on multiple conditions, e.g., 'Age' greater than 25 and 'City' is 'San Francisco'?\n",
    "16. What is the purpose of the `mean()` function in Pandas?\n",
    "17. How can you delete a column from a DataFrame?\n",
    "18. How do you access the last row of a DataFrame?\n",
    "19. How can you reset the index of a DataFrame?\n",
    "20. How would you group data in a DataFrame based on a specific column?\n",
    "21. How can you sort a DataFrame based on a specific column?\n",
    "22. What is the difference between `loc` and `iloc` in Pandas?\n",
    "23. How do you set a specific column as the index of a DataFrame?\n",
    "24. How can you concatenate two DataFrames vertically?\n",
    "25. How would you apply a custom function to a column in a DataFrame?"
   ]
  },
  {
   "cell_type": "markdown",
   "metadata": {},
   "source": [
    "1. What are the primary functions of Pandas?"
   ]
  },
  {
   "cell_type": "markdown",
   "metadata": {},
   "source": [
    "Pandas primary functions are data manipulation and analysis through the use of two powerful data structures: Series and DataFrame."
   ]
  },
  {
   "cell_type": "markdown",
   "metadata": {},
   "source": [
    "2. How can you select a specific column from a DataFrame?"
   ]
  },
  {
   "cell_type": "code",
   "execution_count": null,
   "metadata": {},
   "outputs": [],
   "source": [
    "import pandas as import pd\n",
    "\n",
    "df = "
   ]
  }
 ],
 "metadata": {
  "language_info": {
   "name": "python"
  }
 },
 "nbformat": 4,
 "nbformat_minor": 2
}
