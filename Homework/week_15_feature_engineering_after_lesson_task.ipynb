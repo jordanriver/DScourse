{
 "cells": [
  {
   "cell_type": "markdown",
   "id": "26a120bd",
   "metadata": {},
   "source": [
    "# Meeting #15 - Feature Engineering"
   ]
  },
  {
   "cell_type": "markdown",
   "id": "177540bd",
   "metadata": {},
   "source": [
    "1. Handling Missing Values:\n",
    "Practical Task:\n",
    "Identify and impute missing values in a selected column using the median for numerical features or a placeholder for categorical features."
   ]
  },
  {
   "cell_type": "code",
   "execution_count": 1,
   "id": "1f1a05df",
   "metadata": {},
   "outputs": [],
   "source": [
    "import pandas as pd\n",
    "import numpy as np"
   ]
  },
  {
   "cell_type": "code",
   "execution_count": 2,
   "id": "91b74967",
   "metadata": {},
   "outputs": [
    {
     "data": {
      "text/html": [
       "<div>\n",
       "<style scoped>\n",
       "    .dataframe tbody tr th:only-of-type {\n",
       "        vertical-align: middle;\n",
       "    }\n",
       "\n",
       "    .dataframe tbody tr th {\n",
       "        vertical-align: top;\n",
       "    }\n",
       "\n",
       "    .dataframe thead th {\n",
       "        text-align: right;\n",
       "    }\n",
       "</style>\n",
       "<table border=\"1\" class=\"dataframe\">\n",
       "  <thead>\n",
       "    <tr style=\"text-align: right;\">\n",
       "      <th></th>\n",
       "      <th>Id</th>\n",
       "      <th>MSSubClass</th>\n",
       "      <th>MSZoning</th>\n",
       "      <th>LotFrontage</th>\n",
       "      <th>LotArea</th>\n",
       "      <th>Street</th>\n",
       "      <th>Alley</th>\n",
       "      <th>LotShape</th>\n",
       "      <th>LandContour</th>\n",
       "      <th>Utilities</th>\n",
       "      <th>...</th>\n",
       "      <th>PoolArea</th>\n",
       "      <th>PoolQC</th>\n",
       "      <th>Fence</th>\n",
       "      <th>MiscFeature</th>\n",
       "      <th>MiscVal</th>\n",
       "      <th>MoSold</th>\n",
       "      <th>YrSold</th>\n",
       "      <th>SaleType</th>\n",
       "      <th>SaleCondition</th>\n",
       "      <th>SalePrice</th>\n",
       "    </tr>\n",
       "  </thead>\n",
       "  <tbody>\n",
       "    <tr>\n",
       "      <th>0</th>\n",
       "      <td>1</td>\n",
       "      <td>60</td>\n",
       "      <td>RL</td>\n",
       "      <td>65.0</td>\n",
       "      <td>8450</td>\n",
       "      <td>Pave</td>\n",
       "      <td>NaN</td>\n",
       "      <td>Reg</td>\n",
       "      <td>Lvl</td>\n",
       "      <td>AllPub</td>\n",
       "      <td>...</td>\n",
       "      <td>0</td>\n",
       "      <td>NaN</td>\n",
       "      <td>NaN</td>\n",
       "      <td>NaN</td>\n",
       "      <td>0</td>\n",
       "      <td>2</td>\n",
       "      <td>2008</td>\n",
       "      <td>WD</td>\n",
       "      <td>Normal</td>\n",
       "      <td>208500</td>\n",
       "    </tr>\n",
       "    <tr>\n",
       "      <th>1</th>\n",
       "      <td>2</td>\n",
       "      <td>20</td>\n",
       "      <td>RL</td>\n",
       "      <td>80.0</td>\n",
       "      <td>9600</td>\n",
       "      <td>Pave</td>\n",
       "      <td>NaN</td>\n",
       "      <td>Reg</td>\n",
       "      <td>Lvl</td>\n",
       "      <td>AllPub</td>\n",
       "      <td>...</td>\n",
       "      <td>0</td>\n",
       "      <td>NaN</td>\n",
       "      <td>NaN</td>\n",
       "      <td>NaN</td>\n",
       "      <td>0</td>\n",
       "      <td>5</td>\n",
       "      <td>2007</td>\n",
       "      <td>WD</td>\n",
       "      <td>Normal</td>\n",
       "      <td>181500</td>\n",
       "    </tr>\n",
       "    <tr>\n",
       "      <th>2</th>\n",
       "      <td>3</td>\n",
       "      <td>60</td>\n",
       "      <td>RL</td>\n",
       "      <td>68.0</td>\n",
       "      <td>11250</td>\n",
       "      <td>Pave</td>\n",
       "      <td>NaN</td>\n",
       "      <td>IR1</td>\n",
       "      <td>Lvl</td>\n",
       "      <td>AllPub</td>\n",
       "      <td>...</td>\n",
       "      <td>0</td>\n",
       "      <td>NaN</td>\n",
       "      <td>NaN</td>\n",
       "      <td>NaN</td>\n",
       "      <td>0</td>\n",
       "      <td>9</td>\n",
       "      <td>2008</td>\n",
       "      <td>WD</td>\n",
       "      <td>Normal</td>\n",
       "      <td>223500</td>\n",
       "    </tr>\n",
       "    <tr>\n",
       "      <th>3</th>\n",
       "      <td>4</td>\n",
       "      <td>70</td>\n",
       "      <td>RL</td>\n",
       "      <td>60.0</td>\n",
       "      <td>9550</td>\n",
       "      <td>Pave</td>\n",
       "      <td>NaN</td>\n",
       "      <td>IR1</td>\n",
       "      <td>Lvl</td>\n",
       "      <td>AllPub</td>\n",
       "      <td>...</td>\n",
       "      <td>0</td>\n",
       "      <td>NaN</td>\n",
       "      <td>NaN</td>\n",
       "      <td>NaN</td>\n",
       "      <td>0</td>\n",
       "      <td>2</td>\n",
       "      <td>2006</td>\n",
       "      <td>WD</td>\n",
       "      <td>Abnorml</td>\n",
       "      <td>140000</td>\n",
       "    </tr>\n",
       "    <tr>\n",
       "      <th>4</th>\n",
       "      <td>5</td>\n",
       "      <td>60</td>\n",
       "      <td>RL</td>\n",
       "      <td>84.0</td>\n",
       "      <td>14260</td>\n",
       "      <td>Pave</td>\n",
       "      <td>NaN</td>\n",
       "      <td>IR1</td>\n",
       "      <td>Lvl</td>\n",
       "      <td>AllPub</td>\n",
       "      <td>...</td>\n",
       "      <td>0</td>\n",
       "      <td>NaN</td>\n",
       "      <td>NaN</td>\n",
       "      <td>NaN</td>\n",
       "      <td>0</td>\n",
       "      <td>12</td>\n",
       "      <td>2008</td>\n",
       "      <td>WD</td>\n",
       "      <td>Normal</td>\n",
       "      <td>250000</td>\n",
       "    </tr>\n",
       "  </tbody>\n",
       "</table>\n",
       "<p>5 rows × 81 columns</p>\n",
       "</div>"
      ],
      "text/plain": [
       "   Id  MSSubClass MSZoning  LotFrontage  LotArea Street Alley LotShape  \\\n",
       "0   1          60       RL         65.0     8450   Pave   NaN      Reg   \n",
       "1   2          20       RL         80.0     9600   Pave   NaN      Reg   \n",
       "2   3          60       RL         68.0    11250   Pave   NaN      IR1   \n",
       "3   4          70       RL         60.0     9550   Pave   NaN      IR1   \n",
       "4   5          60       RL         84.0    14260   Pave   NaN      IR1   \n",
       "\n",
       "  LandContour Utilities  ... PoolArea PoolQC Fence MiscFeature MiscVal MoSold  \\\n",
       "0         Lvl    AllPub  ...        0    NaN   NaN         NaN       0      2   \n",
       "1         Lvl    AllPub  ...        0    NaN   NaN         NaN       0      5   \n",
       "2         Lvl    AllPub  ...        0    NaN   NaN         NaN       0      9   \n",
       "3         Lvl    AllPub  ...        0    NaN   NaN         NaN       0      2   \n",
       "4         Lvl    AllPub  ...        0    NaN   NaN         NaN       0     12   \n",
       "\n",
       "  YrSold  SaleType  SaleCondition  SalePrice  \n",
       "0   2008        WD         Normal     208500  \n",
       "1   2007        WD         Normal     181500  \n",
       "2   2008        WD         Normal     223500  \n",
       "3   2006        WD        Abnorml     140000  \n",
       "4   2008        WD         Normal     250000  \n",
       "\n",
       "[5 rows x 81 columns]"
      ]
     },
     "execution_count": 2,
     "metadata": {},
     "output_type": "execute_result"
    }
   ],
   "source": [
    "df = pd.read_csv(r'C:\\Users\\jorda\\Documents\\studies\\DScourse\\CourseMaterials\\Pandas\\data\\train.csv')\n",
    "df.head()"
   ]
  },
  {
   "cell_type": "code",
   "execution_count": 3,
   "id": "eee54919",
   "metadata": {},
   "outputs": [
    {
     "name": "stdout",
     "output_type": "stream",
     "text": [
      "Numerical columns:\n",
      "Index(['Id', 'MSSubClass', 'LotArea', 'OverallQual', 'OverallCond',\n",
      "       'YearBuilt', 'YearRemodAdd', 'BsmtFinSF1', 'BsmtFinSF2', 'BsmtUnfSF',\n",
      "       'TotalBsmtSF', '1stFlrSF', '2ndFlrSF', 'LowQualFinSF', 'GrLivArea',\n",
      "       'BsmtFullBath', 'BsmtHalfBath', 'FullBath', 'HalfBath', 'BedroomAbvGr',\n",
      "       'KitchenAbvGr', 'TotRmsAbvGrd', 'Fireplaces', 'GarageCars',\n",
      "       'GarageArea', 'WoodDeckSF', 'OpenPorchSF', 'EnclosedPorch', '3SsnPorch',\n",
      "       'ScreenPorch', 'PoolArea', 'MiscVal', 'MoSold', 'YrSold', 'SalePrice'],\n",
      "      dtype='object')\n",
      "\n",
      "Categorical columns:\n",
      "Index(['MSZoning', 'LotFrontage', 'Street', 'Alley', 'LotShape', 'LandContour',\n",
      "       'Utilities', 'LotConfig', 'LandSlope', 'Neighborhood', 'Condition1',\n",
      "       'Condition2', 'BldgType', 'HouseStyle', 'RoofStyle', 'RoofMatl',\n",
      "       'Exterior1st', 'Exterior2nd', 'MasVnrType', 'MasVnrArea', 'ExterQual',\n",
      "       'ExterCond', 'Foundation', 'BsmtQual', 'BsmtCond', 'BsmtExposure',\n",
      "       'BsmtFinType1', 'BsmtFinType2', 'Heating', 'HeatingQC', 'CentralAir',\n",
      "       'Electrical', 'KitchenQual', 'Functional', 'FireplaceQu', 'GarageType',\n",
      "       'GarageYrBlt', 'GarageFinish', 'GarageQual', 'GarageCond', 'PavedDrive',\n",
      "       'PoolQC', 'Fence', 'MiscFeature', 'SaleType', 'SaleCondition'],\n",
      "      dtype='object')\n",
      "\n"
     ]
    },
    {
     "data": {
      "text/plain": [
       "Id               0\n",
       "MSSubClass       0\n",
       "LotArea          0\n",
       "OverallQual      0\n",
       "OverallCond      0\n",
       "YearBuilt        0\n",
       "YearRemodAdd     0\n",
       "BsmtFinSF1       0\n",
       "BsmtFinSF2       0\n",
       "BsmtUnfSF        0\n",
       "TotalBsmtSF      0\n",
       "1stFlrSF         0\n",
       "2ndFlrSF         0\n",
       "LowQualFinSF     0\n",
       "GrLivArea        0\n",
       "BsmtFullBath     0\n",
       "BsmtHalfBath     0\n",
       "FullBath         0\n",
       "HalfBath         0\n",
       "BedroomAbvGr     0\n",
       "KitchenAbvGr     0\n",
       "TotRmsAbvGrd     0\n",
       "Fireplaces       0\n",
       "GarageCars       0\n",
       "GarageArea       0\n",
       "WoodDeckSF       0\n",
       "OpenPorchSF      0\n",
       "EnclosedPorch    0\n",
       "3SsnPorch        0\n",
       "ScreenPorch      0\n",
       "PoolArea         0\n",
       "MiscVal          0\n",
       "MoSold           0\n",
       "YrSold           0\n",
       "SalePrice        0\n",
       "dtype: int64"
      ]
     },
     "execution_count": 3,
     "metadata": {},
     "output_type": "execute_result"
    }
   ],
   "source": [
    "# Identify columns with null values\n",
    "null_cols = df.columns[df.isnull().sum() > 0]\n",
    "\n",
    "# Convert all possible columns to numeric values\n",
    "a = df.apply(lambda x: pd.to_numeric(x, errors='coerce')).isnull().sum()\n",
    "\n",
    "# Numerical columns\n",
    "numerical_cols = a[a == 0].index\n",
    "\n",
    "# Categorical columns\n",
    "categorical_cols = df.drop(numerical_cols, axis=1).columns\n",
    "\n",
    "print(f'Numerical columns:\\n{numerical_cols}\\n')\n",
    "print(f'Categorical columns:\\n{categorical_cols}\\n')\n",
    "\n",
    "null_numerical_cols = [col for col in numerical_cols if col in null_cols]\n",
    "null_categorical_cols = [col for col in categorical_cols if col in null_cols]\n",
    "\n",
    "df[numerical_cols].isnull().sum()"
   ]
  },
  {
   "cell_type": "code",
   "execution_count": 4,
   "id": "c2fab734",
   "metadata": {},
   "outputs": [
    {
     "data": {
      "text/plain": [
       "MSZoning            0\n",
       "LotFrontage       259\n",
       "Street              0\n",
       "Alley            1369\n",
       "LotShape            0\n",
       "LandContour         0\n",
       "Utilities           0\n",
       "LotConfig           0\n",
       "LandSlope           0\n",
       "Neighborhood        0\n",
       "Condition1          0\n",
       "Condition2          0\n",
       "BldgType            0\n",
       "HouseStyle          0\n",
       "RoofStyle           0\n",
       "RoofMatl            0\n",
       "Exterior1st         0\n",
       "Exterior2nd         0\n",
       "MasVnrType        872\n",
       "MasVnrArea          8\n",
       "ExterQual           0\n",
       "ExterCond           0\n",
       "Foundation          0\n",
       "BsmtQual           37\n",
       "BsmtCond           37\n",
       "BsmtExposure       38\n",
       "BsmtFinType1       37\n",
       "BsmtFinType2       38\n",
       "Heating             0\n",
       "HeatingQC           0\n",
       "CentralAir          0\n",
       "Electrical          1\n",
       "KitchenQual         0\n",
       "Functional          0\n",
       "FireplaceQu       690\n",
       "GarageType         81\n",
       "GarageYrBlt        81\n",
       "GarageFinish       81\n",
       "GarageQual         81\n",
       "GarageCond         81\n",
       "PavedDrive          0\n",
       "PoolQC           1453\n",
       "Fence            1179\n",
       "MiscFeature      1406\n",
       "SaleType            0\n",
       "SaleCondition       0\n",
       "dtype: int64"
      ]
     },
     "execution_count": 4,
     "metadata": {},
     "output_type": "execute_result"
    }
   ],
   "source": [
    "df[categorical_cols].isnull().sum()"
   ]
  },
  {
   "cell_type": "markdown",
   "id": "53df9bd8",
   "metadata": {},
   "source": [
    "There are no numerical columns that have missing values, so I will choose a categorical one."
   ]
  },
  {
   "cell_type": "code",
   "execution_count": 5,
   "id": "e047dfbd",
   "metadata": {},
   "outputs": [
    {
     "data": {
      "text/plain": [
       "FireplaceQu\n",
       "Gd    380\n",
       "TA    313\n",
       "Fa     33\n",
       "Ex     24\n",
       "Po     20\n",
       "Name: count, dtype: int64"
      ]
     },
     "execution_count": 5,
     "metadata": {},
     "output_type": "execute_result"
    }
   ],
   "source": [
    "df['FireplaceQu'].value_counts()"
   ]
  },
  {
   "cell_type": "code",
   "execution_count": 6,
   "id": "9b31880c",
   "metadata": {},
   "outputs": [],
   "source": [
    "# Replace NaN values with mode of column \n",
    "df['FireplaceQu'] = df['FireplaceQu'].fillna(df['FireplaceQu'].mode()[0])"
   ]
  },
  {
   "cell_type": "code",
   "execution_count": 7,
   "id": "2b3a01a8",
   "metadata": {},
   "outputs": [
    {
     "data": {
      "text/plain": [
       "FireplaceQu\n",
       "Gd    1070\n",
       "TA     313\n",
       "Fa      33\n",
       "Ex      24\n",
       "Po      20\n",
       "Name: count, dtype: int64"
      ]
     },
     "execution_count": 7,
     "metadata": {},
     "output_type": "execute_result"
    }
   ],
   "source": [
    "df['FireplaceQu'].value_counts()"
   ]
  },
  {
   "cell_type": "markdown",
   "id": "a8621ff2",
   "metadata": {},
   "source": [
    "Theoretical Follow-up Question:\n",
    "Why is it important to handle missing values in a dataset before applying machine learning models, and what might happen if you ignore them?"
   ]
  },
  {
   "cell_type": "markdown",
   "id": "8ee42cde",
   "metadata": {},
   "source": [
    "It's important to handle missing values in a dataset before applying machine learning models for the following reasons:\n",
    "- Some model algorithms, like those in scikit-learn, cannot process data with missing values.\n",
    "- Missing values can affect the overall performance of the model, because it is trained on data that is not accurate enough.\n",
    "- A model might interpret missing values as zero, for instance, and that could distort the distribution of the data.\n",
    "- If missing values are ignored, the model might interpret them in unforeseen ways, given that in pandas Dataframe, for example, null values are interpreted as floats (see code below)."
   ]
  },
  {
   "cell_type": "code",
   "execution_count": 21,
   "id": "870d2d85",
   "metadata": {},
   "outputs": [
    {
     "name": "stdout",
     "output_type": "stream",
     "text": [
      "The type of nan is \u001b[1m\u001b[4mfloat\u001b[0m\n"
     ]
    }
   ],
   "source": [
    "nan = df['GarageType'][df['GarageType'].isnull()].iloc[1]\n",
    "nan_type = type(df['GarageType'][df['GarageType'].isnull()].iloc[1]).__name__\n",
    "\n",
    "print(f'The type of {nan} is \\033[1m\\033[4m{nan_type}\\033[0m')"
   ]
  },
  {
   "cell_type": "markdown",
   "id": "6978967b",
   "metadata": {},
   "source": [
    "2. Encoding Categorical Variables:\n",
    "Practical Task:\n",
    "Choose a categorical variable other than 'MSZoning' and 'Neighborhood', and apply one-hot encoding to it."
   ]
  },
  {
   "cell_type": "code",
   "execution_count": 75,
   "id": "f7a607b7",
   "metadata": {},
   "outputs": [
    {
     "name": "stdout",
     "output_type": "stream",
     "text": [
      "Low cardinality columns:\n",
      "Index(['Street', 'Alley', 'LotShape', 'LandContour', 'Utilities', 'LandSlope',\n",
      "       'MasVnrType', 'ExterQual', 'BsmtQual', 'BsmtCond', 'BsmtExposure',\n",
      "       'CentralAir', 'KitchenQual', 'GarageFinish', 'PavedDrive', 'PoolQC',\n",
      "       'Fence', 'MiscFeature'],\n",
      "      dtype='object')\n",
      "\n",
      "High cardinality columns:\n",
      "Index(['MSZoning', 'LotFrontage', 'LotConfig', 'Neighborhood', 'Condition1',\n",
      "       'Condition2', 'BldgType', 'HouseStyle', 'RoofStyle', 'RoofMatl',\n",
      "       'Exterior1st', 'Exterior2nd', 'MasVnrArea', 'ExterCond', 'Foundation',\n",
      "       'BsmtFinType1', 'BsmtFinType2', 'Heating', 'HeatingQC', 'Electrical',\n",
      "       'Functional', 'FireplaceQu', 'GarageType', 'GarageYrBlt', 'GarageQual',\n",
      "       'GarageCond', 'SaleType', 'SaleCondition'],\n",
      "      dtype='object')\n"
     ]
    }
   ],
   "source": [
    "# Distinguishing between high and low cardinality columns\n",
    "low_cardinality_cols = df[categorical_cols].apply(pd.Series.nunique) < 5\n",
    "low_cardinality_cols = low_cardinality_cols[low_cardinality_cols].index\n",
    "\n",
    "high_cardinality_cols = df[categorical_cols].apply(pd.Series.nunique) >= 5\n",
    "high_cardinality_cols = high_cardinality_cols[high_cardinality_cols].index\n",
    "\n",
    "print(f'Low cardinality columns:\\n{low_cardinality_cols}\\n')\n",
    "print(f'High cardinality columns:\\n{high_cardinality_cols}')"
   ]
  },
  {
   "cell_type": "code",
   "execution_count": 79,
   "id": "99aa7689",
   "metadata": {},
   "outputs": [
    {
     "data": {
      "text/html": [
       "<div>\n",
       "<style scoped>\n",
       "    .dataframe tbody tr th:only-of-type {\n",
       "        vertical-align: middle;\n",
       "    }\n",
       "\n",
       "    .dataframe tbody tr th {\n",
       "        vertical-align: top;\n",
       "    }\n",
       "\n",
       "    .dataframe thead th {\n",
       "        text-align: right;\n",
       "    }\n",
       "</style>\n",
       "<table border=\"1\" class=\"dataframe\">\n",
       "  <thead>\n",
       "    <tr style=\"text-align: right;\">\n",
       "      <th></th>\n",
       "      <th>IR2</th>\n",
       "      <th>IR3</th>\n",
       "      <th>Reg</th>\n",
       "    </tr>\n",
       "  </thead>\n",
       "  <tbody>\n",
       "    <tr>\n",
       "      <th>0</th>\n",
       "      <td>False</td>\n",
       "      <td>False</td>\n",
       "      <td>True</td>\n",
       "    </tr>\n",
       "    <tr>\n",
       "      <th>1</th>\n",
       "      <td>False</td>\n",
       "      <td>False</td>\n",
       "      <td>True</td>\n",
       "    </tr>\n",
       "    <tr>\n",
       "      <th>2</th>\n",
       "      <td>False</td>\n",
       "      <td>False</td>\n",
       "      <td>False</td>\n",
       "    </tr>\n",
       "    <tr>\n",
       "      <th>3</th>\n",
       "      <td>False</td>\n",
       "      <td>False</td>\n",
       "      <td>False</td>\n",
       "    </tr>\n",
       "    <tr>\n",
       "      <th>4</th>\n",
       "      <td>False</td>\n",
       "      <td>False</td>\n",
       "      <td>False</td>\n",
       "    </tr>\n",
       "    <tr>\n",
       "      <th>...</th>\n",
       "      <td>...</td>\n",
       "      <td>...</td>\n",
       "      <td>...</td>\n",
       "    </tr>\n",
       "    <tr>\n",
       "      <th>1455</th>\n",
       "      <td>False</td>\n",
       "      <td>False</td>\n",
       "      <td>True</td>\n",
       "    </tr>\n",
       "    <tr>\n",
       "      <th>1456</th>\n",
       "      <td>False</td>\n",
       "      <td>False</td>\n",
       "      <td>True</td>\n",
       "    </tr>\n",
       "    <tr>\n",
       "      <th>1457</th>\n",
       "      <td>False</td>\n",
       "      <td>False</td>\n",
       "      <td>True</td>\n",
       "    </tr>\n",
       "    <tr>\n",
       "      <th>1458</th>\n",
       "      <td>False</td>\n",
       "      <td>False</td>\n",
       "      <td>True</td>\n",
       "    </tr>\n",
       "    <tr>\n",
       "      <th>1459</th>\n",
       "      <td>False</td>\n",
       "      <td>False</td>\n",
       "      <td>True</td>\n",
       "    </tr>\n",
       "  </tbody>\n",
       "</table>\n",
       "<p>1460 rows × 3 columns</p>\n",
       "</div>"
      ],
      "text/plain": [
       "        IR2    IR3    Reg\n",
       "0     False  False   True\n",
       "1     False  False   True\n",
       "2     False  False  False\n",
       "3     False  False  False\n",
       "4     False  False  False\n",
       "...     ...    ...    ...\n",
       "1455  False  False   True\n",
       "1456  False  False   True\n",
       "1457  False  False   True\n",
       "1458  False  False   True\n",
       "1459  False  False   True\n",
       "\n",
       "[1460 rows x 3 columns]"
      ]
     },
     "execution_count": 79,
     "metadata": {},
     "output_type": "execute_result"
    }
   ],
   "source": [
    "# One-Hot Encoding\n",
    "column_to_encode = df['LotShape']\n",
    "\n",
    "encoded_data = pd.get_dummies(column_to_encode, columns=['LotShape'], drop_first=True)\n",
    "\n",
    "encoded_data"
   ]
  },
  {
   "cell_type": "markdown",
   "id": "f00f18ef",
   "metadata": {},
   "source": [
    "Theoretical Follow-up Question:\n",
    "In what scenarios would one-hot encoding be preferable over label encoding for categorical variables, especially in the context of machine learning modeling?"
   ]
  },
  {
   "cell_type": "markdown",
   "id": "395ceea5",
   "metadata": {},
   "source": [
    "Scenarios would one-hot encoding be preferable over label encoding for categorical variables:\n",
    "- Regression models where the labels might be interpreted by the model as actual numerical values, rather than classifications.\n",
    "- When the set of values for a specific categorical feature is not ordinal.\n",
    "- When using models that cannot interpret the numerical labels as labels.\n",
    "- When adding extra columns via One Hot encoding improves the model's performance."
   ]
  },
  {
   "cell_type": "markdown",
   "id": "a2404935",
   "metadata": {},
   "source": [
    "3. Feature Scaling:\n",
    "Practical Task:\n",
    "Identify two numerical features other than 'TotalBsmtSF' and 'GrLivArea' and apply standard scaling to them."
   ]
  },
  {
   "cell_type": "code",
   "execution_count": 9,
   "id": "3d7e9869",
   "metadata": {},
   "outputs": [],
   "source": [
    "# Code for Practical Task 3"
   ]
  },
  {
   "cell_type": "markdown",
   "id": "f3bed43f",
   "metadata": {},
   "source": [
    "Theoretical Follow-up Question:\n",
    "Explain the difference between normalization and standardization in feature scaling. In what situations might you prefer one technique over the other?"
   ]
  }
 ],
 "metadata": {
  "kernelspec": {
   "display_name": "Python 3",
   "language": "python",
   "name": "python3"
  },
  "language_info": {
   "codemirror_mode": {
    "name": "ipython",
    "version": 3
   },
   "file_extension": ".py",
   "mimetype": "text/x-python",
   "name": "python",
   "nbconvert_exporter": "python",
   "pygments_lexer": "ipython3",
   "version": "3.12.0"
  }
 },
 "nbformat": 4,
 "nbformat_minor": 5
}
