{
 "cells": [
  {
   "cell_type": "markdown",
   "id": "74f50599",
   "metadata": {},
   "source": [
    "### Easy (6 Exercises)"
   ]
  },
  {
   "cell_type": "markdown",
   "id": "ea3be126",
   "metadata": {},
   "source": [
    "1. **Load and Inspect Data**: Use pandas to load a given housing dataset and display the first five rows."
   ]
  },
  {
   "cell_type": "markdown",
   "id": "024e57b3",
   "metadata": {},
   "source": [
    "2. **Plotting Relationships**: Create a scatter plot using matplotlib to visualize the relationship between 'SalePrice' and 'LotArea'."
   ]
  },
  {
   "cell_type": "markdown",
   "id": "c75d3377",
   "metadata": {},
   "source": [
    "3. **Basic Linear Regression**: Build a simple linear regression model with sklearn to predict 'SalePrice' from 'LotArea'."
   ]
  },
  {
   "cell_type": "markdown",
   "id": "42048e32",
   "metadata": {},
   "source": [
    "4. **Model Coefficients**: Extract and display the coefficients (slope, intercept) of the trained linear regression model."
   ]
  },
  {
   "cell_type": "markdown",
   "id": "fb22c94a",
   "metadata": {},
   "source": [
    "5. **Basic Prediction**: Predict 'SalePrice' for a new 'LotArea' value using the trained model."
   ]
  },
  {
   "cell_type": "markdown",
   "id": "c0f55804",
   "metadata": {},
   "source": [
    "6. **Basic Data Split**: Split the dataset into training and testing sets with a 70-30 ratio using `train_test_split`."
   ]
  },
  {
   "cell_type": "markdown",
   "id": "84d7f0a5",
   "metadata": {},
   "source": [
    "### Medium (8 Exercises)"
   ]
  },
  {
   "cell_type": "markdown",
   "id": "fb78fafc",
   "metadata": {},
   "source": [
    "7. **Residual Calculation**: Calculate the residuals for a small set of predictions from the linear model."
   ]
  },
  {
   "cell_type": "markdown",
   "id": "e09c33b1",
   "metadata": {},
   "source": [
    "8. **Simple Model Evaluation**: Compute the R-squared score for the simple linear regression model on the test set."
   ]
  },
  {
   "cell_type": "markdown",
   "id": "436f37a1",
   "metadata": {},
   "source": [
    "9. **Visualize Regression Line**: Plot the regression line for 'SalePrice' against 'LotArea' using seaborn."
   ]
  },
  {
   "cell_type": "markdown",
   "id": "47978774",
   "metadata": {},
   "source": [
    "10. **Simple Residuals Plotting**: Create a plot showing residuals versus fitted values for the linear regression model."
   ]
  },
  {
   "cell_type": "markdown",
   "id": "64559f98",
   "metadata": {},
   "source": [
    "11. **Multiple Linear Regression**: Extend to multiple linear regression using two predictor variables (e.g., 'LotArea' and 'OverallQual') to predict 'SalePrice'."
   ]
  },
  {
   "cell_type": "markdown",
   "id": "903ba699",
   "metadata": {},
   "source": [
    "12. **Cross-Validation**: Implement 5-fold cross-validation on the linear regression model and calculate the average R-squared score."
   ]
  },
  {
   "cell_type": "markdown",
   "id": "e1b06594",
   "metadata": {},
   "source": [
    "13. **Interpreting Coefficients**: Interpret the coefficients of the multiple linear regression model and their impact on 'SalePrice'."
   ]
  },
  {
   "cell_type": "markdown",
   "id": "a6b33a62",
   "metadata": {},
   "source": [
    "14. **Prediction with Multiple Regression**: Use the multiple regression model to predict 'SalePrice' for a new set of predictor values."
   ]
  },
  {
   "cell_type": "markdown",
   "id": "d32724cd",
   "metadata": {},
   "source": [
    "### Hard (6 Exercises)"
   ]
  },
  {
   "cell_type": "markdown",
   "id": "976639cd",
   "metadata": {},
   "source": [
    "15. **Error Analysis**: Analyze the residuals of the multiple regression model to identify any patterns."
   ]
  },
  {
   "cell_type": "markdown",
   "id": "51d2f4c1",
   "metadata": {},
   "source": [
    "16. **Impact of Feature Removal**: Observe the effect on model performance when excluding a feature from the multiple regression model."
   ]
  },
  {
   "cell_type": "markdown",
   "id": "410ca756",
   "metadata": {},
   "source": [
    "17. **Exploring Correlation**: Examine the correlation between 'SalePrice' and various other variables in the dataset."
   ]
  },
  {
   "cell_type": "markdown",
   "id": "077f1c3a",
   "metadata": {},
   "source": [
    "18. **Advanced Visualization**: Create a seaborn pair plot for a subset of variables in the housing dataset to explore relationships."
   ]
  },
  {
   "cell_type": "markdown",
   "id": "ea0ced7e",
   "metadata": {},
   "source": [
    "19. **Model Comparison**: Compare the performance of simple and multiple linear regression models based on their R-squared scores."
   ]
  },
  {
   "cell_type": "markdown",
   "id": "2cb459cb",
   "metadata": {},
   "source": [
    "20. **Feature Importance Observation**: Observe which features seem to have the most significant impact on 'SalePrice' based on the coefficients in the multiple regression model."
   ]
  },
  {
   "cell_type": "code",
   "execution_count": null,
   "metadata": {
    "vscode": {
     "languageId": "plaintext"
    }
   },
   "outputs": [],
   "source": []
  }
 ],
 "metadata": {
  "language_info": {
   "name": "python"
  }
 },
 "nbformat": 4,
 "nbformat_minor": 2
}
