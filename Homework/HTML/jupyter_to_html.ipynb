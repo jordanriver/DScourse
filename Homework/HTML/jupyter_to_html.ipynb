{
 "cells": [
  {
   "cell_type": "code",
   "execution_count": 1,
   "metadata": {},
   "outputs": [
    {
     "name": "stdout",
     "output_type": "stream",
     "text": [
      "Converted C:\\Users\\jorda\\Documents\\studies\\DScourse\\Homework\\Meeting_13_project_part_1_Jordan_Vardi.ipynb to HTML and saved in C:\\Users\\jorda\\Documents\\studies\\DScourse\\Homework\\HTML.\n"
     ]
    }
   ],
   "source": [
    "# Import necessary libraries\n",
    "import os\n",
    "import subprocess\n",
    "\n",
    "# Function to convert .ipynb to .html\n",
    "def convert_notebook_to_html(notebook_path, output_directory):\n",
    "    # Check if the notebook file exists\n",
    "    if not os.path.exists(notebook_path):\n",
    "        print(f\"File {notebook_path} not found.\")\n",
    "        return\n",
    "\n",
    "    # Ensure the output directory exists, if not, create it\n",
    "    if not os.path.exists(output_directory):\n",
    "        os.makedirs(output_directory)\n",
    "        print(f\"Created output directory: {output_directory}\")\n",
    "\n",
    "    # Extract the notebook's base name and construct the output file path\n",
    "    notebook_base_name = os.path.basename(notebook_path)\n",
    "    output_path = os.path.join(output_directory, notebook_base_name.replace('.ipynb', '.html'))\n",
    "\n",
    "    try:\n",
    "        # Convert the notebook to HTML and specify the output directory\n",
    "        subprocess.run([\"jupyter\", \"nbconvert\", notebook_path, \"--to\", \"html\", \"--output\", output_path], check=True)\n",
    "        print(f\"Converted {notebook_path} to HTML and saved in {output_directory}.\")\n",
    "    except subprocess.CalledProcessError as e:\n",
    "        print(f\"Error during conversion: {e}\")\n",
    "\n",
    "# Prompt user to input the path of the .ipynb file\n",
    "notebook_file = input(\"Enter the path of the notebook file to convert: \")\n",
    "\n",
    "# Specify the output directory where you want to save the HTML file\n",
    "output_directory = input(\"Enter the path of the output directory: \")\n",
    "\n",
    "# Call the function with the notebook path and output directory\n",
    "convert_notebook_to_html(notebook_file, output_directory)"
   ]
  }
 ],
 "metadata": {
  "kernelspec": {
   "display_name": "Python 3",
   "language": "python",
   "name": "python3"
  },
  "language_info": {
   "codemirror_mode": {
    "name": "ipython",
    "version": 3
   },
   "file_extension": ".py",
   "mimetype": "text/x-python",
   "name": "python",
   "nbconvert_exporter": "python",
   "pygments_lexer": "ipython3",
   "version": "3.12.0"
  }
 },
 "nbformat": 4,
 "nbformat_minor": 2
}
