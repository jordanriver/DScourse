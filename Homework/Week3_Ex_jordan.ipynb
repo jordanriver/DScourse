{
 "cells": [
  {
   "cell_type": "markdown",
   "metadata": {},
   "source": [
    "## **If Statements:**\n",
    "\n",
    "### Easy:\n",
    "\n",
    "1. Write an `if` statement that checks if a given number is positive."
   ]
  },
  {
   "cell_type": "code",
   "execution_count": 1,
   "metadata": {},
   "outputs": [
    {
     "name": "stdout",
     "output_type": "stream",
     "text": [
      "-4 is negative\n"
     ]
    }
   ],
   "source": [
    "import random\n",
    "\n",
    "number = random.randint(-100, 100)\n",
    "\n",
    "if number > 0:\n",
    "    print(f\"{number} is positive\")\n",
    "else:\n",
    "    print(f\"{number} is negative\")"
   ]
  },
  {
   "cell_type": "markdown",
   "metadata": {},
   "source": [
    "2. Write an `if` statement to check if a string is equal to \"hello\"."
   ]
  },
  {
   "cell_type": "code",
   "execution_count": 2,
   "metadata": {},
   "outputs": [],
   "source": [
    "my_string1 = \"hello\"\n",
    "my_string2 = \"go\""
   ]
  },
  {
   "cell_type": "code",
   "execution_count": 3,
   "metadata": {},
   "outputs": [],
   "source": [
    "def equal_to_hello(string):\n",
    "    if string == \"hello\":\n",
    "        print(\"Equal to 'hello'\")\n",
    "    else:\n",
    "        print(\"Not equal to 'hello'\")"
   ]
  },
  {
   "cell_type": "code",
   "execution_count": 4,
   "metadata": {},
   "outputs": [
    {
     "name": "stdout",
     "output_type": "stream",
     "text": [
      "Equal to 'hello'\n"
     ]
    }
   ],
   "source": [
    "equal_to_hello(my_string1)"
   ]
  },
  {
   "cell_type": "code",
   "execution_count": 5,
   "metadata": {},
   "outputs": [
    {
     "name": "stdout",
     "output_type": "stream",
     "text": [
      "Not equal to 'hello'\n"
     ]
    }
   ],
   "source": [
    "equal_to_hello(my_string2)"
   ]
  },
  {
   "cell_type": "markdown",
   "metadata": {},
   "source": [
    "3. Determine if a given year is a leap year."
   ]
  },
  {
   "cell_type": "code",
   "execution_count": 6,
   "metadata": {},
   "outputs": [],
   "source": [
    "def leapyear(year):\n",
    "    if year % 4 == 0:\n",
    "        print(f\"{year} is a leap year!\")\n",
    "    elif year % 100 == 0 and year % 400 != 0:\n",
    "        print(f\"{year} is not a leap year!\")\n",
    "    else:\n",
    "        print(f\"{year} is not a leap year!\")"
   ]
  },
  {
   "cell_type": "code",
   "execution_count": 7,
   "metadata": {},
   "outputs": [
    {
     "name": "stdout",
     "output_type": "stream",
     "text": [
      "1996 is a leap year!\n"
     ]
    }
   ],
   "source": [
    "random_year = random.randint(1900, 2100)\n",
    "\n",
    "leapyear(random_year)"
   ]
  },
  {
   "cell_type": "markdown",
   "metadata": {},
   "source": [
    "4. Compare two numbers and print which one is larger, or if they're equal."
   ]
  },
  {
   "cell_type": "code",
   "execution_count": 8,
   "metadata": {},
   "outputs": [],
   "source": [
    "def compare_nums(x, y):\n",
    "    if x > y:\n",
    "        print(f\"{x} is larger than {y}\")\n",
    "    elif x < y:\n",
    "        print(f\"{y} is larger than {x}\")\n",
    "    else:\n",
    "        print(f\"{x} and {y} are equal\")"
   ]
  },
  {
   "cell_type": "code",
   "execution_count": 9,
   "metadata": {},
   "outputs": [
    {
     "name": "stdout",
     "output_type": "stream",
     "text": [
      "91 is larger than 90\n"
     ]
    }
   ],
   "source": [
    "num1 = random.randint(-100, 100)\n",
    "num2 = random.randint(-100, 100)\n",
    "\n",
    "compare_nums(num1, num2)"
   ]
  },
  {
   "cell_type": "code",
   "execution_count": 10,
   "metadata": {},
   "outputs": [
    {
     "name": "stdout",
     "output_type": "stream",
     "text": [
      "5 and 5 are equal\n"
     ]
    }
   ],
   "source": [
    "compare_nums(5, 5)"
   ]
  },
  {
   "cell_type": "markdown",
   "metadata": {},
   "source": [
    "5. Take a single character input and check if it's a vowel."
   ]
  },
  {
   "cell_type": "code",
   "execution_count": 11,
   "metadata": {},
   "outputs": [],
   "source": [
    "vowels = [\"a\", \"e\", \"i\", \"o\", \"u\"]\n",
    "\n",
    "\n",
    "def vowel_check(char):\n",
    "    if char.lower() in vowels:\n",
    "        print(f\"{char} is a vowel!\")\n",
    "    else:\n",
    "        print(f\"{char} is not a vowel!\")"
   ]
  },
  {
   "cell_type": "code",
   "execution_count": 12,
   "metadata": {},
   "outputs": [
    {
     "name": "stdout",
     "output_type": "stream",
     "text": [
      "c is not a vowel!\n"
     ]
    }
   ],
   "source": [
    "import string\n",
    "\n",
    "character = random.choice(string.ascii_letters)\n",
    "\n",
    "vowel_check(character)"
   ]
  },
  {
   "cell_type": "markdown",
   "metadata": {},
   "source": [
    "---\n",
    "\n",
    "## **Boolean:**\n",
    "\n",
    "### Easy:\n",
    "\n",
    "6. Check if two given numbers are both odd."
   ]
  },
  {
   "cell_type": "code",
   "execution_count": 13,
   "metadata": {},
   "outputs": [
    {
     "name": "stdout",
     "output_type": "stream",
     "text": [
      "At least one number is not odd!\n"
     ]
    }
   ],
   "source": [
    "num1 = random.randint(0, 100)\n",
    "num2 = random.randint(0, 100)\n",
    "\n",
    "if num1 % 2 != 0 and num2 % 2 != 0:\n",
    "    print(f\"{num1} and {num2} are both odd!\")\n",
    "else:\n",
    "    print(\"At least one number is not odd!\")"
   ]
  },
  {
   "cell_type": "markdown",
   "metadata": {},
   "source": [
    "7. Determine the boolean result of `not(True and False)`."
   ]
  },
  {
   "cell_type": "code",
   "execution_count": 14,
   "metadata": {},
   "outputs": [
    {
     "data": {
      "text/plain": [
       "True"
      ]
     },
     "execution_count": 14,
     "metadata": {},
     "output_type": "execute_result"
    }
   ],
   "source": [
    "not (True and False)"
   ]
  },
  {
   "cell_type": "markdown",
   "metadata": {},
   "source": [
    "### Medium:\n",
    "\n",
    "8. Evaluate the boolean value of an expression that checks if 10 is both greater than 5 and less than 15."
   ]
  },
  {
   "cell_type": "code",
   "execution_count": 15,
   "metadata": {},
   "outputs": [
    {
     "data": {
      "text/plain": [
       "True"
      ]
     },
     "execution_count": 15,
     "metadata": {},
     "output_type": "execute_result"
    }
   ],
   "source": [
    "5 < 10 < 15"
   ]
  },
  {
   "cell_type": "markdown",
   "metadata": {},
   "source": [
    "9. Check if a given number is either less than 5 or greater than 10."
   ]
  },
  {
   "cell_type": "code",
   "execution_count": 16,
   "metadata": {},
   "outputs": [
    {
     "name": "stdout",
     "output_type": "stream",
     "text": [
      "0\n"
     ]
    },
    {
     "data": {
      "text/plain": [
       "True"
      ]
     },
     "execution_count": 16,
     "metadata": {},
     "output_type": "execute_result"
    }
   ],
   "source": [
    "# pylint: disable=undefined-variable\n",
    "number = random.randint(0, 15)\n",
    "print(number)\n",
    "\n",
    "number < 5 or number > 10"
   ]
  },
  {
   "cell_type": "markdown",
   "metadata": {},
   "source": [
    "### Hard:\n",
    "\n",
    "10. Take three numbers and check if they are in increasing order."
   ]
  },
  {
   "cell_type": "code",
   "execution_count": 17,
   "metadata": {},
   "outputs": [
    {
     "name": "stdout",
     "output_type": "stream",
     "text": [
      "84 56 38\n"
     ]
    },
    {
     "data": {
      "text/plain": [
       "False"
      ]
     },
     "execution_count": 17,
     "metadata": {},
     "output_type": "execute_result"
    }
   ],
   "source": [
    "x = random.randint(0, 100)\n",
    "y = random.randint(0, 100)\n",
    "z = random.randint(0, 100)\n",
    "\n",
    "print(x, y, z)\n",
    "x < y < z"
   ]
  },
  {
   "cell_type": "markdown",
   "metadata": {},
   "source": [
    "---\n",
    "\n",
    "## **Lists:**\n",
    "\n",
    "### Easy:\n",
    "\n",
    "11. Create a list with five of your favorite fruits.\n"
   ]
  },
  {
   "cell_type": "code",
   "execution_count": 18,
   "metadata": {},
   "outputs": [],
   "source": [
    "favorite_fruits = [\"apple\", \"orange\", \"kiwi\", \"blueberry\", \"watermelon\"]"
   ]
  },
  {
   "cell_type": "markdown",
   "metadata": {},
   "source": [
    "12. Check if \"apple\" is in your fruit list."
   ]
  },
  {
   "cell_type": "code",
   "execution_count": 19,
   "metadata": {},
   "outputs": [
    {
     "data": {
      "text/plain": [
       "True"
      ]
     },
     "execution_count": 19,
     "metadata": {},
     "output_type": "execute_result"
    }
   ],
   "source": [
    "\"apple\" in favorite_fruits"
   ]
  },
  {
   "cell_type": "markdown",
   "metadata": {},
   "source": [
    "### Medium:\n",
    "\n",
    "13. Add \"grape\" to your list of fruits."
   ]
  },
  {
   "cell_type": "code",
   "execution_count": 20,
   "metadata": {},
   "outputs": [
    {
     "data": {
      "text/plain": [
       "['apple', 'orange', 'kiwi', 'blueberry', 'watermelon', 'grape']"
      ]
     },
     "execution_count": 20,
     "metadata": {},
     "output_type": "execute_result"
    }
   ],
   "source": [
    "favorite_fruits.append(\"grape\")\n",
    "favorite_fruits"
   ]
  },
  {
   "cell_type": "markdown",
   "metadata": {},
   "source": [
    "14. Remove the second fruit from your list."
   ]
  },
  {
   "cell_type": "code",
   "execution_count": 21,
   "metadata": {},
   "outputs": [
    {
     "data": {
      "text/plain": [
       "['apple', 'kiwi', 'blueberry', 'watermelon', 'grape']"
      ]
     },
     "execution_count": 21,
     "metadata": {},
     "output_type": "execute_result"
    }
   ],
   "source": [
    "favorite_fruits.pop(1)\n",
    "favorite_fruits"
   ]
  },
  {
   "cell_type": "markdown",
   "metadata": {},
   "source": [
    "### Hard:\n",
    "\n",
    "15. Create a list of five numbers and find the maximum using built-in functions without `max` function."
   ]
  },
  {
   "cell_type": "code",
   "execution_count": 22,
   "metadata": {},
   "outputs": [
    {
     "data": {
      "text/plain": [
       "[88, 12, 71, 0, 2]"
      ]
     },
     "execution_count": 22,
     "metadata": {},
     "output_type": "execute_result"
    }
   ],
   "source": [
    "num_list = random.choices(range(0, 100), k=5)\n",
    "num_list"
   ]
  },
  {
   "cell_type": "code",
   "execution_count": 23,
   "metadata": {},
   "outputs": [
    {
     "data": {
      "text/plain": [
       "88"
      ]
     },
     "execution_count": 23,
     "metadata": {},
     "output_type": "execute_result"
    }
   ],
   "source": [
    "num_list.sort()\n",
    "num_list[4]"
   ]
  },
  {
   "cell_type": "markdown",
   "metadata": {},
   "source": [
    "---\n",
    "\n",
    "## **Dictionaries:**\n",
    "\n",
    "### Easy:\n",
    "\n",
    "16. Create a dictionary that represents a student with keys: `name`, `age`, and `grade`."
   ]
  },
  {
   "cell_type": "code",
   "execution_count": 24,
   "metadata": {},
   "outputs": [
    {
     "data": {
      "text/plain": [
       "{'name': 'Dan', 'age': 25, 'grade': 95}"
      ]
     },
     "execution_count": 24,
     "metadata": {},
     "output_type": "execute_result"
    }
   ],
   "source": [
    "student = {\"name\": \"Dan\", \"age\": 25, \"grade\": 95}\n",
    "student"
   ]
  },
  {
   "cell_type": "markdown",
   "metadata": {},
   "source": [
    "17. Check if the key \"grade\" exists in the student dictionary."
   ]
  },
  {
   "cell_type": "code",
   "execution_count": 25,
   "metadata": {},
   "outputs": [
    {
     "data": {
      "text/plain": [
       "95"
      ]
     },
     "execution_count": 25,
     "metadata": {},
     "output_type": "execute_result"
    }
   ],
   "source": [
    "student[\"grade\"]"
   ]
  },
  {
   "cell_type": "markdown",
   "metadata": {},
   "source": [
    "### Medium:\n",
    "\n",
    "18. Add a key \"subject\" with value \"Math\" to the student dictionary."
   ]
  },
  {
   "cell_type": "code",
   "execution_count": 26,
   "metadata": {},
   "outputs": [
    {
     "data": {
      "text/plain": [
       "{'name': 'Dan', 'age': 25, 'grade': 95, 'subject': 'Math'}"
      ]
     },
     "execution_count": 26,
     "metadata": {},
     "output_type": "execute_result"
    }
   ],
   "source": [
    "student[\"subject\"] = \"Math\"\n",
    "student"
   ]
  },
  {
   "cell_type": "markdown",
   "metadata": {},
   "source": [
    "19. Remove the key-value pair with the key \"age\"."
   ]
  },
  {
   "cell_type": "code",
   "execution_count": 27,
   "metadata": {},
   "outputs": [
    {
     "data": {
      "text/plain": [
       "{'name': 'Dan', 'grade': 95, 'subject': 'Math'}"
      ]
     },
     "execution_count": 27,
     "metadata": {},
     "output_type": "execute_result"
    }
   ],
   "source": [
    "student.pop(\"age\")\n",
    "student"
   ]
  },
  {
   "cell_type": "markdown",
   "metadata": {},
   "source": [
    "### Hard:\n",
    "\n",
    "20. Print all the keys in the student dictionary without using the `keys` method."
   ]
  },
  {
   "cell_type": "code",
   "execution_count": 28,
   "metadata": {},
   "outputs": [
    {
     "name": "stdout",
     "output_type": "stream",
     "text": [
      "name\n",
      "grade\n",
      "subject\n"
     ]
    }
   ],
   "source": [
    "for key in student:\n",
    "    print(key)"
   ]
  },
  {
   "cell_type": "markdown",
   "metadata": {},
   "source": [
    "---\n",
    "\n",
    "## **Mixed Exercises:**\n",
    "\n",
    "### Easy:\n",
    "\n",
    "21. Create a list of numbers. Using an if-statement, check if the sum of the list is greater than 100."
   ]
  },
  {
   "cell_type": "code",
   "execution_count": 44,
   "metadata": {},
   "outputs": [
    {
     "data": {
      "text/plain": [
       "[14, 25, 24, 22, 24]"
      ]
     },
     "execution_count": 44,
     "metadata": {},
     "output_type": "execute_result"
    }
   ],
   "source": [
    "num_list = random.choices(range(0, 30), k=5)\n",
    "num_list"
   ]
  },
  {
   "cell_type": "code",
   "execution_count": 45,
   "metadata": {},
   "outputs": [
    {
     "name": "stdout",
     "output_type": "stream",
     "text": [
      "The sum of [14, 25, 24, 22, 24] is greater than 100!\n"
     ]
    }
   ],
   "source": [
    "if sum(num_list) > 100:\n",
    "    print(f\"The sum of {num_list} is greater than 100!\")\n",
    "else:\n",
    "    print(f\"The sum of {num_list} is not greater than 100!\")"
   ]
  },
  {
   "cell_type": "markdown",
   "metadata": {},
   "source": [
    "22. Write a program that checks if a given name exists in a list of registered names."
   ]
  },
  {
   "cell_type": "code",
   "execution_count": null,
   "metadata": {},
   "outputs": [],
   "source": [
    "import "
   ]
  },
  {
   "cell_type": "markdown",
   "metadata": {},
   "source": [
    "### Medium:\n",
    "\n",
    "23. Take a numerical score input and convert it into a grade (A, B, C, D, F)."
   ]
  },
  {
   "cell_type": "markdown",
   "metadata": {},
   "source": [
    "24. Create a dictionary with keys as product names and values as their price. Check if a given product is less than $10."
   ]
  },
  {
   "cell_type": "markdown",
   "metadata": {},
   "source": [
    "25. Create a list of colors. Check if both \"red\" and \"blue\" are in the list."
   ]
  },
  {
   "cell_type": "markdown",
   "metadata": {},
   "source": [
    "### Hard:\n",
    "\n",
    "26. Write a program to check if a year is a leap year and store the result as a boolean in a dictionary with the key \"isLeapYear\"."
   ]
  },
  {
   "cell_type": "markdown",
   "metadata": {},
   "source": [
    "27. Create a list of numbers and find out if the average of the numbers is greater than 50 without using `sum` and `len` functions."
   ]
  },
  {
   "cell_type": "markdown",
   "metadata": {},
   "source": [
    "28. Create a dictionary with multiple students' names and their marks in a subject. Check if a given student has more than 70 marks."
   ]
  },
  {
   "cell_type": "markdown",
   "metadata": {},
   "source": [
    "29. Take a string input. If it's \"yes\" or \"no\", print the corresponding boolean value."
   ]
  },
  {
   "cell_type": "markdown",
   "metadata": {},
   "source": [
    "30. Create a dictionary that represents a book. If the book has more than 100 pages, print \"Long read\", else print \"Short read\"."
   ]
  }
 ],
 "metadata": {
  "colab": {
   "provenance": []
  },
  "kernelspec": {
   "display_name": "Python 3",
   "name": "python3"
  },
  "language_info": {
   "codemirror_mode": {
    "name": "ipython",
    "version": 3
   },
   "file_extension": ".py",
   "mimetype": "text/x-python",
   "name": "python",
   "nbconvert_exporter": "python",
   "pygments_lexer": "ipython3",
   "version": "3.10.13"
  }
 },
 "nbformat": 4,
 "nbformat_minor": 0
}
