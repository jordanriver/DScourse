{
  "cells": [
    {
      "cell_type": "markdown",
      "metadata": {
        "id": "M8Qhoxn8FnIw"
      },
      "source": [
        "\n",
        "## **If Statements:**\n",
        "\n",
        "### Easy:\n",
        "\n",
        "1. Write an `if` statement that checks if a given number is positive.\n",
        "2. Write an `if` statement to check if a string is equal to \"hello\".\n",
        "\n",
        "### Medium:\n",
        "\n",
        "3. Determine if a given year is a leap year.\n",
        "4. Compare two numbers and print which one is larger, or if they're equal.\n",
        "\n",
        "### Hard:\n",
        "\n",
        "5. Take a single character input and check if it's a vowel.\n",
        "\n",
        "---\n",
        "\n",
        "## **Boolean:**\n",
        "\n",
        "### Easy:\n",
        "\n",
        "6. Check if two given numbers are both odd.\n",
        "7. Determine the boolean result of `not(True and False)`.\n",
        "\n",
        "### Medium:\n",
        "\n",
        "8. Evaluate the boolean value of an expression that checks if 10 is both greater than 5 and less than 15.\n",
        "9. Check if a given number is either less than 5 or greater than 10.\n",
        "\n",
        "### Hard:\n",
        "\n",
        "10. Take three numbers and check if they are in increasing order.\n",
        "\n",
        "---\n",
        "\n",
        "## **Lists:**\n",
        "\n",
        "### Easy:\n",
        "\n",
        "11. Create a list with five of your favorite fruits.\n",
        "12. Check if \"apple\" is in your fruit list.\n",
        "\n",
        "### Medium:\n",
        "\n",
        "13. Add \"grape\" to your list of fruits.\n",
        "14. Remove the second fruit from your list.\n",
        "\n",
        "### Hard:\n",
        "\n",
        "15. Create a list of five numbers and find the maximum using built-in functions without `max` function.\n",
        "\n",
        "---\n",
        "\n",
        "## **Dictionaries:**\n",
        "\n",
        "### Easy:\n",
        "\n",
        "16. Create a dictionary that represents a student with keys: `name`, `age`, and `grade`.\n",
        "17. Check if the key \"grade\" exists in the student dictionary.\n",
        "\n",
        "### Medium:\n",
        "\n",
        "18. Add a key \"subject\" with value \"Math\" to the student dictionary.\n",
        "19. Remove the key-value pair with the key \"age\".\n",
        "\n",
        "### Hard:\n",
        "\n",
        "20. Print all the keys in the student dictionary without using the `keys` method.\n",
        "\n",
        "---\n",
        "\n",
        "## **Mixed Exercises:**\n",
        "\n",
        "### Easy:\n",
        "\n",
        "21. Create a list of numbers. Using an if-statement, check if the sum of the list is greater than 100.\n",
        "22. Write a program that checks if a given name exists in a list of registered names.\n",
        "\n",
        "### Medium:\n",
        "\n",
        "23. Take a numerical score input and convert it into a grade (A, B, C, D, F).\n",
        "24. Create a dictionary with keys as product names and values as their price. Check if a given product is less than $10.\n",
        "25. Create a list of colors. Check if both \"red\" and \"blue\" are in the list.\n",
        "\n",
        "### Hard:\n",
        "\n",
        "26. Write a program to check if a year is a leap year and store the result as a boolean in a dictionary with the key \"isLeapYear\".\n",
        "27. Create a list of numbers and find out if the average of the numbers is greater than 50 without using `sum` and `len` functions.\n",
        "28. Create a dictionary with multiple students' names and their marks in a subject. Check if a given student has more than 70 marks.\n",
        "29. Take a string input. If it's \"yes\" or \"no\", print the corresponding boolean value.\n",
        "30. Create a dictionary that represents a book. If the book has more than 100 pages, print \"Long read\", else print \"Short read\".\n"
      ]
    },
    {
      "cell_type": "markdown",
      "metadata": {},
      "source": [
        "## **If Statements:**\n",
        "\n",
        "### Easy:\n",
        "\n",
        "1. Write an `if` statement that checks if a given number is positive."
      ]
    },
    {
      "cell_type": "code",
      "execution_count": 18,
      "metadata": {},
      "outputs": [
        {
          "name": "stdout",
          "output_type": "stream",
          "text": [
            "-10 is negative\n"
          ]
        }
      ],
      "source": [
        "import random\n",
        "\n",
        "number = random.randint(-100, 100)\n",
        "\n",
        "if number > 0:\n",
        "    print(f\"{number} is positive\")\n",
        "else:\n",
        "    print(f\"{number} is negative\")"
      ]
    },
    {
      "cell_type": "markdown",
      "metadata": {},
      "source": [
        "2. Write an `if` statement to check if a string is equal to \"hello\"."
      ]
    },
    {
      "cell_type": "code",
      "execution_count": 43,
      "metadata": {},
      "outputs": [],
      "source": [
        "my_string1 = 'hello'\n",
        "my_string2 = 'go'"
      ]
    },
    {
      "cell_type": "code",
      "execution_count": 50,
      "metadata": {},
      "outputs": [],
      "source": [
        "def equal_to_hello(string):\n",
        "    if string == 'hello':\n",
        "        print(\"Equal to 'hello'\")"
      ]
    },
    {
      "cell_type": "code",
      "execution_count": 51,
      "metadata": {},
      "outputs": [
        {
          "name": "stdout",
          "output_type": "stream",
          "text": [
            "Equal to 'hello'\n"
          ]
        }
      ],
      "source": [
        "equal_to_hello(my_string1)"
      ]
    },
    {
      "cell_type": "code",
      "execution_count": 52,
      "metadata": {},
      "outputs": [],
      "source": [
        "equal_hello(my_string2)\n"
      ]
    },
    {
      "cell_type": "markdown",
      "metadata": {},
      "source": [
        "3. Determine if a given year is a leap year."
      ]
    }
  ],
  "metadata": {
    "colab": {
      "provenance": []
    },
    "kernelspec": {
      "display_name": "Python 3",
      "name": "python3"
    },
    "language_info": {
      "codemirror_mode": {
        "name": "ipython",
        "version": 3
      },
      "file_extension": ".py",
      "mimetype": "text/x-python",
      "name": "python",
      "nbconvert_exporter": "python",
      "pygments_lexer": "ipython3",
      "version": "3.11.3"
    }
  },
  "nbformat": 4,
  "nbformat_minor": 0
}
