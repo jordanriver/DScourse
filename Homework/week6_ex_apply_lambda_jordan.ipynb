{
 "cells": [
  {
   "cell_type": "markdown",
   "metadata": {},
   "source": [
    "# Meeting 6: `apply` and `lambda` Exercises\n",
    "\n",
    "### Easy Questions\n",
    "1. How do you use `apply` with a lambda function to add 10 to each `weight` value?\n"
   ]
  },
  {
   "cell_type": "markdown",
   "metadata": {},
   "source": [
    "2. Write a query to convert all `height` values from centimeters to inches using `apply`."
   ]
  },
  {
   "cell_type": "markdown",
   "metadata": {},
   "source": [
    "3. How can you use a lambda function to categorize `weight` into 'light' and 'heavy'?"
   ]
  },
  {
   "cell_type": "markdown",
   "metadata": {},
   "source": [
    "4. Show how to use `apply` to calculate the Body Mass Index (BMI) for each row."
   ]
  },
  {
   "cell_type": "markdown",
   "metadata": {},
   "source": [
    "5. Can you convert `gender` values to uppercase using `apply` and a lambda function?"
   ]
  },
  {
   "cell_type": "markdown",
   "metadata": {},
   "source": [
    "6. Demonstrate how to use `apply` to round off all `height` values to the nearest integer."
   ]
  },
  {
   "cell_type": "markdown",
   "metadata": {},
   "source": [
    "7. How do you use a lambda function to classify `height` into 'short', 'medium', and 'tall'?"
   ]
  },
  {
   "cell_type": "markdown",
   "metadata": {},
   "source": [
    "8. Write a lambda function within `apply` to subtract the mean `weight` from each weight value."
   ]
  },
  {
   "cell_type": "markdown",
   "metadata": {},
   "source": [
    "9. Show how to use `apply` to create a new column indicating if `weight` is above average."
   ]
  },
  {
   "cell_type": "markdown",
   "metadata": {},
   "source": [
    "10. Can you use a lambda function to calculate the weight-to-height ratio for each row?"
   ]
  },
  {
   "cell_type": "markdown",
   "metadata": {},
   "source": [
    "### Medium Questions\n",
    "11. How do you use `apply` with a lambda function to standardize (z-score) `weight` values?"
   ]
  },
  {
   "cell_type": "markdown",
   "metadata": {},
   "source": [
    "12. Write a query using `apply` to find the difference between each `weight` and the max weight."
   ]
  },
  {
   "cell_type": "markdown",
   "metadata": {},
   "source": [
    "13. Can you create a new column that shows 'weight' as a percentage of the highest `weight` using `apply`?"
   ]
  },
  {
   "cell_type": "markdown",
   "metadata": {},
   "source": [
    "14. Demonstrate how to use `apply` with a lambda to categorize `height` based on quartiles."
   ]
  },
  {
   "cell_type": "markdown",
   "metadata": {},
   "source": [
    "15. How do you use `apply` to create a new column that indicates if each person is over or under 6 feet tall?"
   ]
  },
  {
   "cell_type": "markdown",
   "metadata": {},
   "source": [
    "16. Can you use a lambda function to identify outliers in `weight` (outside 1.5 IQR)?"
   ]
  },
  {
   "cell_type": "markdown",
   "metadata": {},
   "source": [
    "17. Show how to use `apply` to count the number of characters in each `gender` value."
   ]
  },
  {
   "cell_type": "markdown",
   "metadata": {},
   "source": [
    "18. Write a lambda function within `apply` to convert `weight` from pounds to kilograms."
   ]
  },
  {
   "cell_type": "markdown",
   "metadata": {},
   "source": [
    "19. How do you apply a lambda function to categorize BMI into underweight, normal, overweight, and obese?"
   ]
  },
  {
   "cell_type": "markdown",
   "metadata": {},
   "source": [
    "20. Can you use `apply` to create a new column indicating whether each individual's `weight` is in the top 10% of the dataset?"
   ]
  },
  {
   "cell_type": "markdown",
   "metadata": {},
   "source": [
    "### Hard Questions\n",
    "21. How do you use `apply` with a lambda function to implement a custom weight normalization (min-max scaling)?"
   ]
  },
  {
   "cell_type": "markdown",
   "metadata": {},
   "source": [
    "22. Can you write a complex lambda function within `apply` to calculate the lean body mass (using a formula that requires both `weight` and `height`)?"
   ]
  },
  {
   "cell_type": "markdown",
   "metadata": {},
   "source": [
    "23. Demonstrate how to use `apply` with a lambda to replace `gender` values based on conditions applied to `weight` and `height`."
   ]
  },
  {
   "cell_type": "markdown",
   "metadata": {},
   "source": [
    "24. Write a query using `apply` to calculate the Euclidean distance of each individual’s `weight` and `height` from the dataset's mean weight and height."
   ]
  },
  {
   "cell_type": "markdown",
   "metadata": {},
   "source": [
    "25. Can you use a lambda function to generate a unique ID for each row combining the first letter of `gender` with a sequential number?"
   ]
  },
  {
   "cell_type": "markdown",
   "metadata": {},
   "source": [
    "26. Show how to use `apply` with a lambda function to create a 'health_score' based on a custom formula involving `weight` and `height`."
   ]
  },
  {
   "cell_type": "markdown",
   "metadata": {},
   "source": [
    "27. How do you use `apply` to find the percentile rank of `weight` and `height` together in each row?"
   ]
  },
  {
   "cell_type": "markdown",
   "metadata": {},
   "source": [
    "28. Can you use a lambda function to detect and mark which rows have `weight` and `height` values that are both above their respective medians?"
   ]
  },
  {
   "cell_type": "markdown",
   "metadata": {},
   "source": [
    "29. Write a lambda function within `apply` to calculate a 'fitness index' based on a complex formula using `weight`, `height`, and `gender`."
   ]
  },
  {
   "cell_type": "markdown",
   "metadata": {},
   "source": [
    "30. Demonstrate how to use `apply` with lambda functions to perform a conditional transformation (e.g., add a fixed value to `weight` if `gender` is male, else subtract it)."
   ]
  }
 ],
 "metadata": {
  "language_info": {
   "name": "python"
  }
 },
 "nbformat": 4,
 "nbformat_minor": 2
}
