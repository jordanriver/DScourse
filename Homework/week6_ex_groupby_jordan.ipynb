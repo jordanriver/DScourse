{
 "cells": [
  {
   "cell_type": "markdown",
   "metadata": {},
   "source": [
    "# Meeting 6: Groupby Exercises\n",
    "\n",
    "\n",
    "### Easy Questions\n",
    "1. How can you group the dataset by `gender`?\n",
    "2. Write a query to find the average `height` by `gender`.\n",
    "3. How can you find the maximum `weight` in each `gender` group?\n",
    "4. Show the count of entries for each `gender`.\n",
    "5. What is the minimum `height` for each `gender` group?\n",
    "6. How do you find the total sum of `weight` for each `gender`?\n",
    "7. Demonstrate how to group by `gender` and get the median `height`.\n",
    "8. Can you find the standard deviation of `weight` within each `gender` group?\n",
    "9. Illustrate how to group by `gender` and describe the `height` statistics.\n",
    "10. How would you group by `gender` and get the first entry in each group?"
   ]
  },
  {
   "cell_type": "code",
   "execution_count": 1,
   "metadata": {},
   "outputs": [],
   "source": [
    "import pandas as pd\n",
    "import numpy as np\n",
    "import matplotlib.pyplot as plt\n",
    "%matplotlib inline"
   ]
  },
  {
   "cell_type": "code",
   "execution_count": null,
   "metadata": {},
   "outputs": [],
   "source": []
  }
 ],
 "metadata": {
  "kernelspec": {
   "display_name": "Python 3",
   "language": "python",
   "name": "python3"
  },
  "language_info": {
   "codemirror_mode": {
    "name": "ipython",
    "version": 3
   },
   "file_extension": ".py",
   "mimetype": "text/x-python",
   "name": "python",
   "nbconvert_exporter": "python",
   "pygments_lexer": "ipython3",
   "version": "3.10.8"
  }
 },
 "nbformat": 4,
 "nbformat_minor": 2
}
