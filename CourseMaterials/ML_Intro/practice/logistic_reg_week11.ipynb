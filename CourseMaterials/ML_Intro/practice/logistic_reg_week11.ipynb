{
 "cells": [
  {
   "cell_type": "code",
   "execution_count": 2,
   "metadata": {},
   "outputs": [],
   "source": [
    "import pandas as pd\n",
    "import numpy as np\n",
    "import matplotlib.pyplot as plt\n",
    "import seaborn as sns\n",
    "from sklearn.linear_model import LinearRegression\n",
    "from sklearn.linear_model import LogisticRegression\n",
    "from sklearn.model_selection import train_test_split\n",
    "from sklearn.metrics import mean_squared_error\n",
    "\n",
    "%matplotlib inline"
   ]
  },
  {
   "cell_type": "code",
   "execution_count": 4,
   "metadata": {},
   "outputs": [
    {
     "data": {
      "text/html": [
       "<div>\n",
       "<style scoped>\n",
       "    .dataframe tbody tr th:only-of-type {\n",
       "        vertical-align: middle;\n",
       "    }\n",
       "\n",
       "    .dataframe tbody tr th {\n",
       "        vertical-align: top;\n",
       "    }\n",
       "\n",
       "    .dataframe thead th {\n",
       "        text-align: right;\n",
       "    }\n",
       "</style>\n",
       "<table border=\"1\" class=\"dataframe\">\n",
       "  <thead>\n",
       "    <tr style=\"text-align: right;\">\n",
       "      <th></th>\n",
       "      <th>weight</th>\n",
       "      <th>height</th>\n",
       "      <th>gender</th>\n",
       "    </tr>\n",
       "  </thead>\n",
       "  <tbody>\n",
       "    <tr>\n",
       "      <th>0</th>\n",
       "      <td>65.6</td>\n",
       "      <td>174.0</td>\n",
       "      <td>1</td>\n",
       "    </tr>\n",
       "    <tr>\n",
       "      <th>1</th>\n",
       "      <td>71.8</td>\n",
       "      <td>175.3</td>\n",
       "      <td>1</td>\n",
       "    </tr>\n",
       "    <tr>\n",
       "      <th>2</th>\n",
       "      <td>80.7</td>\n",
       "      <td>193.5</td>\n",
       "      <td>1</td>\n",
       "    </tr>\n",
       "    <tr>\n",
       "      <th>3</th>\n",
       "      <td>72.6</td>\n",
       "      <td>186.5</td>\n",
       "      <td>1</td>\n",
       "    </tr>\n",
       "    <tr>\n",
       "      <th>4</th>\n",
       "      <td>78.8</td>\n",
       "      <td>187.2</td>\n",
       "      <td>1</td>\n",
       "    </tr>\n",
       "  </tbody>\n",
       "</table>\n",
       "</div>"
      ],
      "text/plain": [
       "   weight  height  gender\n",
       "0    65.6   174.0       1\n",
       "1    71.8   175.3       1\n",
       "2    80.7   193.5       1\n",
       "3    72.6   186.5       1\n",
       "4    78.8   187.2       1"
      ]
     },
     "execution_count": 4,
     "metadata": {},
     "output_type": "execute_result"
    }
   ],
   "source": [
    "# Load the data to a dataframe\n",
    "df = pd.read_csv(\n",
    "    r\"C:\\Users\\jorda\\Documents\\studies\\DScourse\\CourseMaterials\\Pandas\\data\\health_data.csv\"\n",
    ")\n",
    "df.head()"
   ]
  },
  {
   "cell_type": "code",
   "execution_count": 16,
   "metadata": {},
   "outputs": [
    {
     "name": "stdout",
     "output_type": "stream",
     "text": [
      "Intercept: -46.73774969612497, Coefficient: 0.2727700849940167\n"
     ]
    },
    {
     "name": "stderr",
     "output_type": "stream",
     "text": [
      "c:\\Users\\jorda\\AppData\\Local\\Programs\\Python\\Python312\\Lib\\site-packages\\sklearn\\utils\\validation.py:1183: DataConversionWarning: A column-vector y was passed when a 1d array was expected. Please change the shape of y to (n_samples, ), for example using ravel().\n",
      "  y = column_or_1d(y, warn=True)\n"
     ]
    }
   ],
   "source": [
    "# Create a logistic regression model and fit it to the data\n",
    "X = df[[\"height\"]]\n",
    "y = df[[\"gender\"]]\n",
    "\n",
    "model = LogisticRegression()\n",
    "model.fit(X, y)\n",
    "\n",
    "# Display the model parameters\n",
    "print(f\"Intercept: {model.intercept_[0]}, Coefficient: {model.coef_[0][0]}\")"
   ]
  },
  {
   "cell_type": "code",
   "execution_count": 21,
   "metadata": {},
   "outputs": [],
   "source": [
    "# Predict the gender based on height\n",
    "df[\"y_pred\"] = model.predict(X)"
   ]
  },
  {
   "cell_type": "code",
   "execution_count": 56,
   "metadata": {},
   "outputs": [],
   "source": [
    "from sklearn.metrics import confusion_matrix, ConfusionMatrixDisplay"
   ]
  },
  {
   "cell_type": "code",
   "execution_count": 43,
   "metadata": {},
   "outputs": [
    {
     "data": {
      "text/plain": [
       "((354, 3), (153, 3))"
      ]
     },
     "execution_count": 43,
     "metadata": {},
     "output_type": "execute_result"
    }
   ],
   "source": [
    "# Load the data to a DataFrame\n",
    "df = pd.read_csv(\n",
    "    r\"C:\\Users\\jorda\\Documents\\studies\\DScourse\\CourseMaterials\\Pandas\\data\\health_data.csv\"\n",
    ")\n",
    "df.head()\n",
    "\n",
    "# Split the data into train and test\n",
    "train_df, test_df = train_test_split(df, test_size=0.3, random_state=1)\n",
    "\n",
    "# Check the shape of the train and test DataFrames\n",
    "train_df.shape, test_df.shape"
   ]
  },
  {
   "cell_type": "code",
   "execution_count": 53,
   "metadata": {},
   "outputs": [
    {
     "name": "stdout",
     "output_type": "stream",
     "text": [
      "Intercept: -40.74788960962945, Coefficient A: 0.08936698682129875, Coefficient B: 0.20250172340383682\n"
     ]
    }
   ],
   "source": [
    "# Create the model\n",
    "model = LogisticRegression()\n",
    "\n",
    "# Fit the model on the train set\n",
    "model.fit(X=train_df[[\"weight\", \"height\"]], y=train_df[\"gender\"])\n",
    "\n",
    "# Show the model parameters\n",
    "print(\n",
    "    f\"Intercept: {model.intercept_[0]}, Coefficient A: {model.coef_[0][0]}, Coefficient B: {model.coef_[0][1]}\"\n",
    ")"
   ]
  },
  {
   "cell_type": "code",
   "execution_count": 54,
   "metadata": {},
   "outputs": [],
   "source": [
    "# Predict the values on the test set\n",
    "test_df[\"predicted_gender\"] = model.predict(test_df[[\"weight\", \"height\"]])"
   ]
  },
  {
   "cell_type": "code",
   "execution_count": 69,
   "metadata": {},
   "outputs": [
    {
     "data": {
      "image/png": "[encoded data removed]",
      "text/plain": [
       "<Figure size 600x600 with 1 Axes>"
      ]
     },
     "metadata": {},
     "output_type": "display_data"
    }
   ],
   "source": [
    "# Create the confusion matrix\n",
    "\n",
    "cm = confusion_matrix(\n",
    "    y_true=test_df[\"gender\"],\n",
    "    y_pred=test_df[\"predicted_gender\"],\n",
    ")\n",
    "\n",
    "# Display the confusion matrix\n",
    "disp = ConfusionMatrixDisplay(confusion_matrix=cm)\n",
    "disp.plot()\n",
    "disp.ax_.set_title(\"Gender Confusion Matrix\")\n",
    "disp.ax_.set_xlabel(\"Predicted gender\")\n",
    "disp.ax_.set_ylabel(\"True gender\")\n",
    "disp.im_.colorbar.remove()\n",
    "disp.figure_.set_size_inches(6, 6)"
   ]
  },
  {
   "cell_type": "code",
   "execution_count": 121,
   "metadata": {},
   "outputs": [
    {
     "name": "stdout",
     "output_type": "stream",
     "text": [
      "Males predicted to be males: 67\n",
      "Females predicted to be males: 16\n",
      "Males predicted to be females: 11\n",
      "Females predicted to be females: 59\n"
     ]
    }
   ],
   "source": [
    "# Print the values of the confusion matrix\n",
    "print(\n",
    "    f'Males predicted to be males: {\n",
    "        cm[0][0]\n",
    "        }\\nFemales predicted to be males: {\n",
    "            cm[0][1]\n",
    "            }\\nMales predicted to be females: {\n",
    "                cm[1][0]\n",
    "                }\\nFemales predicted to be females: {\n",
    "                    cm[1][1]\n",
    "                    }'\n",
    "    )"
   ]
  },
  {
   "cell_type": "code",
   "execution_count": 120,
   "metadata": {},
   "outputs": [
    {
     "data": {
      "image/png": "[encoded data removed]",
      "text/plain": [
       "<Figure size 1200x300 with 1 Axes>"
      ]
     },
     "metadata": {},
     "output_type": "display_data"
    }
   ],
   "source": [
    "# Plot the test data and the gender predictions\n",
    "ax = test_df[test_df[\"gender\"] == 0].plot.scatter(\n",
    "    x=\"height\", y=\"gender\", c=\"DarkBlue\", label=\"Female\", marker=\"o\", s=100\n",
    ")\n",
    "ax = test_df[test_df[\"gender\"] == 1].plot.scatter(\n",
    "    x=\"height\", y=\"gender\", c=\"DarkGreen\", label=\"Male\", ax=ax, marker=\"o\", s=100\n",
    ")\n",
    "ax = test_df[test_df[\"predicted_gender\"] == 0].plot.scatter(\n",
    "    x=\"height\",\n",
    "    y=\"predicted_gender\",\n",
    "    c=\"Red\",\n",
    "    label=\"Predicted Female\",\n",
    "    ax=ax,\n",
    "    marker=\".\",\n",
    "    s=50,\n",
    ")\n",
    "ax = test_df[test_df[\"predicted_gender\"] == 1].plot.scatter(\n",
    "    x=\"height\",\n",
    "    y=\"predicted_gender\",\n",
    "    c=\"DarkOrange\",\n",
    "    label=\"Predicted Male\",\n",
    "    ax=ax,\n",
    "    marker=\".\",\n",
    "    s=50,\n",
    ")\n",
    "ax.figure.set_size_inches(12, 3)\n",
    "ax.set_yticks([0, 1])\n",
    "ax.set_title(\"Gender Prediction via Height\")\n",
    "ax.set_xlabel(\"Height\")\n",
    "ax.set_ylabel(\"Gender\")\n",
    "ax.set_ylim(-0.5, 1.5)\n",
    "ax.set_facecolor(\"lightgrey\")"
   ]
  }
 ],
 "metadata": {
  "kernelspec": {
   "display_name": "Python 3",
   "language": "python",
   "name": "python3"
  },
  "language_info": {
   "codemirror_mode": {
    "name": "ipython",
    "version": 3
   },
   "file_extension": ".py",
   "mimetype": "text/x-python",
   "name": "python",
   "nbconvert_exporter": "python",
   "pygments_lexer": "ipython3",
   "version": "3.12.0"
  }
 },
 "nbformat": 4,
 "nbformat_minor": 2
}
