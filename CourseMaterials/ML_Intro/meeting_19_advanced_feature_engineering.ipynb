{
 "cells": [
  {
   "cell_type": "code",
   "execution_count": 17,
   "metadata": {},
   "outputs": [
    {
     "name": "stderr",
     "output_type": "stream",
     "text": [
      "c:\\Users\\jorda\\AppData\\Local\\Programs\\Python\\Python312\\Lib\\site-packages\\sklearn\\preprocessing\\_encoders.py:975: FutureWarning: `sparse` was renamed to `sparse_output` in version 1.2 and will be removed in 1.4. `sparse_output` is ignored unless you leave `sparse` to its default value.\n",
      "  warnings.warn(\n"
     ]
    }
   ],
   "source": [
    "import pandas as pd\n",
    "from sklearn.ensemble import RandomForestRegressor\n",
    "from sklearn.model_selection import train_test_split\n",
    "from sklearn.impute import SimpleImputer\n",
    "from sklearn.preprocessing import OneHotEncoder\n",
    "\n",
    "# Load the training data\n",
    "train_data = pd.read_csv(r'C:\\Users\\jorda\\Documents\\studies\\DScourse\\CourseMaterials\\Data\\home-data-for-ml-course\\train.csv')\n",
    "\n",
    "# Stage 1: Encode Categorical Variables\n",
    "categorical_cols = [col for col in train_data.columns if train_data[col].dtype == 'object']\n",
    "\n",
    "# Applying One-Hot Encoding\n",
    "onehot_encoder = OneHotEncoder(handle_unknown='ignore', sparse=False)\n",
    "encoded_vars = onehot_encoder.fit_transform(train_data[categorical_cols])\n",
    "encoded_vars_df = pd.DataFrame(encoded_vars, columns=onehot_encoder.get_feature_names_out(categorical_cols))\n",
    "\n",
    "# Drop original categorical columns and concatenate encoded variables\n",
    "train_data = train_data.drop(categorical_cols, axis=1)\n",
    "train_data = pd.concat([train_data, encoded_vars_df], axis=1)\n",
    "\n",
    "# Stage 2: Handle Missing Values\n",
    "# Imputing missing values for numerical and categorical data\n",
    "for col in train_data.columns:\n",
    "    if train_data[col].isnull().any():\n",
    "        imputer = SimpleImputer(strategy='median' if train_data[col].dtype in ['int64', 'float64'] else 'most_frequent')\n",
    "        train_data[col] = imputer.fit_transform(train_data[[col]])\n",
    "\n",
    "# Stage 3: Deal with Outliers in 'LotArea'\n",
    "Q1 = train_data['LotArea'].quantile(0.25)\n",
    "Q3 = train_data['LotArea'].quantile(0.75)\n",
    "IQR = Q3 - Q1\n",
    "lower_bound = Q1 - 1.5 * IQR\n",
    "upper_bound = Q3 + 1.5 * IQR\n",
    "\n",
    "# Removing outliers\n",
    "train_data = train_data[(train_data['LotArea'] >= lower_bound) & (train_data['LotArea'] <= upper_bound)]\n",
    "\n",
    "# Preparing data for Random Forest model\n",
    "X = train_data.drop(['SalePrice', 'Id'], axis=1)  # Assuming 'SalePrice' is the target and 'Id' is an identifier\n",
    "y = train_data['SalePrice']\n",
    "\n",
    "# Train a Random Forest model\n",
    "model = RandomForestRegressor(n_estimators=100, random_state=0)\n",
    "model.fit(X, y)\n",
    "\n",
    "# Load the test data\n",
    "test_data = pd.read_csv(r'C:\\Users\\jorda\\Documents\\studies\\DScourse\\CourseMaterials\\Data\\home-data-for-ml-course\\test.csv')\n",
    "test_data_original = test_data.copy()  # Copy to preserve original IDs\n",
    "\n",
    "# Repeat preprocessing for test data\n",
    "test_data = pd.get_dummies(test_data, columns=categorical_cols, drop_first=True)\n",
    "test_data = test_data.reindex(columns = X.columns, fill_value=0)\n",
    "\n",
    "# Impute missing values in the test data\n",
    "for col in test_data.columns:\n",
    "    if test_data[col].isnull().any():\n",
    "        imputer = SimpleImputer(strategy='median' if test_data[col].dtype in ['int64', 'float64'] else 'most_frequent')\n",
    "        test_data[col] = imputer.fit_transform(test_data[[col]])\n",
    "\n",
    "# Make predictions on the test data\n",
    "predictions = model.predict(test_data)\n",
    "\n",
    "# Prepare submission file\n",
    "submission = pd.DataFrame({\n",
    "    'Id': test_data_original['Id'],\n",
    "    'SalePrice': predictions\n",
    "})\n",
    "\n",
    "# Save submission file\n",
    "submission.to_csv('submission_stage1-3.csv', index=False)"
   ]
  }
 ],
 "metadata": {
  "kernelspec": {
   "display_name": "Python 3",
   "language": "python",
   "name": "python3"
  },
  "language_info": {
   "codemirror_mode": {
    "name": "ipython",
    "version": 3
   },
   "file_extension": ".py",
   "mimetype": "text/x-python",
   "name": "python",
   "nbconvert_exporter": "python",
   "pygments_lexer": "ipython3",
   "version": "3.12.0"
  }
 },
 "nbformat": 4,
 "nbformat_minor": 2
}
