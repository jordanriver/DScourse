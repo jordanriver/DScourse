{
 "cells": [
  {
   "cell_type": "markdown",
   "metadata": {},
   "source": [
    "# Python Data Analysis and Visualization Practice\n",
    "\n",
    "This document covers essential topics in data analysis and visualization using Python. The concepts are demonstrated through Python code examples, using libraries such as pandas, matplotlib, seaborn, and scipy.\n",
    "\n",
    "## 1. Describing Qualitative Data\n",
    "\n",
    "Qualitative data, or categorical data, can be summarized using frequency distributions or bar charts. Python's `pandas` and `matplotlib` libraries are excellent for handling these tasks.\n",
    "\n",
    "### Example:\n",
    "```python\n",
    "import pandas as pd\n",
    "import matplotlib.pyplot as plt\n",
    "\n",
    "# Sample qualitative data\n",
    "data = {'Category': ['A', 'B', 'A', 'C', 'B', 'A', 'C', 'C', 'B', 'A']}\n",
    "df = pd.DataFrame(data)\n",
    "\n",
    "# Frequency distribution\n",
    "frequency = df['Category'].value_counts()\n",
    "\n",
    "# Bar chart\n",
    "plt.bar(frequency.index, frequency.values)\n",
    "plt.title('Frequency Distribution of Categories')\n",
    "plt.xlabel('Category')\n",
    "plt.ylabel('Frequency')\n",
    "plt.show()\n",
    "```\n",
    "\n",
    "## 2. Graphical Methods for Describing Quantitative Data\n",
    "\n",
    "For quantitative data, histograms and box plots are common graphical methods.\n",
    "\n",
    "### Example:\n",
    "```python\n",
    "# Histogram\n",
    "plt.hist(df['NumericColumn'], bins=10)\n",
    "plt.title('Histogram')\n",
    "plt.xlabel('Value')\n",
    "plt.ylabel('Frequency')\n",
    "plt.show()\n",
    "\n",
    "# Box plot\n",
    "plt.boxplot(df['NumericColumn'])\n",
    "plt.title('Box Plot')\n",
    "plt.ylabel('Value')\n",
    "plt.show()\n",
    "```\n",
    "\n",
    "## 3. Numerical Measures of Central Tendency\n",
    "\n",
    "Central tendency can be measured using mean, median, and mode.\n",
    "\n",
    "### Example:\n",
    "```python\n",
    "mean = df['NumericColumn'].mean()\n",
    "median = df['NumericColumn'].median()\n",
    "mode = df['NumericColumn'].mode()[0]\n",
    "```\n",
    "\n",
    "## 4. Numerical Measures of Variability\n",
    "\n",
    "Variability is often described using range, variance, and standard deviation.\n",
    "\n",
    "### Example:\n",
    "```python\n",
    "range = df['NumericColumn'].max() - df['NumericColumn'].min()\n",
    "variance = df['NumericColumn'].var()\n",
    "std_deviation = df['NumericColumn'].std()\n",
    "```\n",
    "\n",
    "## 5. Using the Mean and Standard Deviation to Describe Data\n",
    "\n",
    "Mean and standard deviation are key in understanding data distribution.\n",
    "\n",
    "### Example:\n",
    "```python\n",
    "mean = df['NumericColumn'].mean()\n",
    "std_deviation = df['NumericColumn'].std()\n",
    "```\n",
    "\n",
    "## 6. Numerical Measures of Relative Standing\n",
    "\n",
    "This includes measures like percentiles and z-scores.\n",
    "\n",
    "### Example:\n",
    "```python\n",
    "from scipy import stats\n",
    "\n",
    "percentile_50 = df['NumericColumn'].quantile(0.5)\n",
    "z_scores = stats.zscore(df['NumericColumn'])\n",
    "```\n",
    "\n",
    "## 7. Methods for Detecting Outliers: Box Plots and z-scores\n",
    "\n",
    "Box plots and z-scores are effective for outlier detection.\n",
    "\n",
    "### Example:\n",
    "```python\n",
    "# Box plot\n",
    "plt.boxplot(df['NumericColumn'])\n",
    "plt.show()\n",
    "\n",
    "# Z-score\n",
    "z_scores = stats.zscore(df['NumericColumn'])\n",
    "outliers = df[(z_scores < -3) | (z_scores > 3)]\n",
    "```\n",
    "\n",
    "## 8. Graphing Bivariate Relationships\n",
    "\n",
    "Scatter plots are used to observe relationships between two variables.\n",
    "\n",
    "### Example:\n",
    "```python\n",
    "plt.scatter(df['Column1'], df['Column2'])\n",
    "plt.title('Bivariate Relationship')\n",
    "plt.xlabel('Column1')\n",
    "plt.ylabel('Column2')\n",
    "plt.show()\n",
    "```\n",
    "\n",
    "## 9. The Time Series Plot\n",
    "\n",
    "Time series plots are essential for trend analysis in time-sequenced data.\n",
    "\n",
    "### Example:\n",
    "```python\n",
    "plt.plot(df['DateColumn'], df['ValueColumn'])\n",
    "plt.title('Time Series Plot')\n",
    "plt.xlabel('Date')\n",
    "plt.ylabel('Value')\n",
    "plt.xticks(rotation=45)\n",
    "plt.show()\n",
    "```\n",
    "\n",
    "## 10. Distorting the Truth with Descriptive Techniques\n",
    "\n",
    "It's crucial to be aware of how data presentation techniques can be misleading.\n",
    "\n",
    "### Discussion:\n",
    "- Truncated Axes: Can exaggerate or minimize apparent trends.\n",
    "- Inappropriate Scales: Different scales can lead to misinterpretation of the relationship between variables.\n",
    "- Selective Display: Showing only a part of the data can lead to biased interpretations.\n",
    "\n",
    "---\n",
    "\n",
    "This document provides a foundation for basic data analysis and visualization in Python. Each topic is critical in understanding and interpreting data correctly."
   ]
  },
  {
   "cell_type": "markdown",
   "metadata": {},
   "source": [
    "## Easy\n",
    "\n",
    "1. **Describing Qualitative Data - Material Types:**\n",
    "   - Count the frequency of each 'material' type in the 'train.csv' dataset and create a bar graph to display this information.\n",
    "\n",
    "2. **Central Tendency of Prices:**\n",
    "   - Calculate and print the mean, median, and mode of 'price_doc' in 'train.csv'.\n",
    "\n",
    "3. **Histogram of Apartment Areas:**\n",
    "   - Create a histogram for the 'full_sq' (total area) column in 'train.csv'.\n",
    "\n",
    "4. **Basic Box Plot for Living Area:**\n",
    "   - Generate a box plot for the 'life_sq' (living area) column in 'train.csv'.\n",
    "\n",
    "5. **Counting Apartments by Floor:**\n",
    "   - Use 'train.csv' to count the number of apartments on each floor and display the results.\n",
    "\n",
    "## Medium\n",
    "\n",
    "6. **Variability in Apartment Prices:**\n",
    "   - Calculate the standard deviation and variance of 'price_doc' in 'train.csv'.\n",
    "\n",
    "7. **Outlier Detection with Box Plot - Apartment Prices:**\n",
    "   - Create a box plot for 'price_doc' in 'train.csv' to visually identify any outliers.\n",
    "\n",
    "8. **Graphing Bivariate Relationships - Price vs. Area:**\n",
    "   - Create a scatter plot to explore the relationship between 'full_sq' (total area) and 'price_doc' (sale price) in 'train.csv'.\n",
    "\n",
    "9. **Describing Quantitative Data - Floor Analysis:**\n",
    "   - Describe the distribution of the 'floor' variable in 'train.csv' using numerical measures (mean, median, standard deviation).\n",
    "\n",
    "10. **Bar Graph of Districts (Sub Area):**\n",
    "    - Create a bar graph showing the frequency of each 'sub_area' in the 'train.csv'.\n",
    "\n",
    "## Hard\n",
    "\n",
    "11. **Central Tendency of Kitchen Sizes:**\n",
    "    - Analyze the 'kitch_sq' (kitchen area) in 'train.csv' by calculating its mean, median, and mode.\n",
    "\n",
    "12. **Box Plot Analysis by Material Type:**\n",
    "    - Create separate box plots for 'price_doc' for each type of 'material' in 'train.csv' to compare distributions.\n",
    "\n",
    "13. **Detecting Outliers in Life Square Meterage:**\n",
    "    - Identify outliers in the 'life_sq' column of 'train.csv' using the Interquartile Range (IQR) method.\n",
    "\n",
    "14. **Numerical Measures of Relative Standing - Apartment Prices:**\n",
    "    - Calculate and print the quartiles and interquartile range of 'price_doc' in 'train.csv'.\n",
    "\n",
    "15. **Graphical Comparison of Apartment Conditions:**\n",
    "    - Use bar graphs to compare the count of apartments in each condition ('state') in 'train.csv'.\n"
   ]
  },
  {
   "cell_type": "code",
   "execution_count": 1,
   "metadata": {},
   "outputs": [],
   "source": [
    "import pandas as pd\n",
    "import numpy as np\n",
    "import matplotlib.pyplot as plt\n",
    "import seaborn as sns\n",
    "from sklearn.ensemble import RandomForestRegressor\n",
    "%matplotlib inline\n",
    "\n",
    "pd.set_option('display.max_rows', 2000)\n",
    "pd.set_option('display.max_columns', 500)"
   ]
  },
  {
   "cell_type": "code",
   "execution_count": 2,
   "metadata": {},
   "outputs": [],
   "source": [
    "df_orig = pd.read_csv(r'C:\\Users\\jorda\\Documents\\studies\\DScourse\\CourseMaterials\\Data\\sberbank-russian-housing-market\\train.csv')\n",
    "df_test_orig = pd.read_csv(r'C:\\Users\\jorda\\Documents\\studies\\DScourse\\CourseMaterials\\Data\\sberbank-russian-housing-market\\test.csv')\n",
    "\n",
    "df = df_orig.copy()\n",
    "df_test = df_test_orig.copy()"
   ]
  },
  {
   "cell_type": "code",
   "execution_count": 3,
   "metadata": {},
   "outputs": [
    {
     "data": {
      "text/plain": [
       "material\n",
       "1.0    14197\n",
       "2.0     2993\n",
       "3.0        1\n",
       "4.0     1344\n",
       "5.0     1561\n",
       "6.0      803\n",
       "Name: count, dtype: int64"
      ]
     },
     "execution_count": 3,
     "metadata": {},
     "output_type": "execute_result"
    }
   ],
   "source": [
    "# Frequency of 'material' values\n",
    "df['material'].value_counts().sort_index()"
   ]
  },
  {
   "cell_type": "code",
   "execution_count": 4,
   "metadata": {},
   "outputs": [
    {
     "data": {
      "text/plain": [
       "<Axes: xlabel='material', ylabel='count'>"
      ]
     },
     "execution_count": 4,
     "metadata": {},
     "output_type": "execute_result"
    },
    {
     "data": {
      "image/png": "[encoded data removed]",
      "text/plain": [
       "<Figure size 640x480 with 1 Axes>"
      ]
     },
     "metadata": {},
     "output_type": "display_data"
    }
   ],
   "source": [
    "# Barplot to dispaly frequency of 'material' values\n",
    "sns.countplot(x='material', data=df)"
   ]
  },
  {
   "cell_type": "code",
   "execution_count": 5,
   "metadata": {},
   "outputs": [
    {
     "name": "stdout",
     "output_type": "stream",
     "text": [
      "Mean of price_doc: 7123035.27773949\n",
      "Median of price_doc: 6274411.0\n",
      "Mode of price_doc: 2000000\n"
     ]
    }
   ],
   "source": [
    "# Print mean, median, and mode of 'price_doc'\n",
    "print(f'Mean of price_doc: {df.price_doc.mean()}')\n",
    "print(f'Median of price_doc: {df.price_doc.median()}')\n",
    "print(f'Mode of price_doc: {df.price_doc.mode()[0]}')"
   ]
  },
  {
   "cell_type": "code",
   "execution_count": 6,
   "metadata": {},
   "outputs": [
    {
     "data": {
      "text/plain": [
       "<Axes: >"
      ]
     },
     "execution_count": 6,
     "metadata": {},
     "output_type": "execute_result"
    },
    {
     "data": {
      "image/png": "[encoded data removed]",
      "text/plain": [
       "<Figure size 640x480 with 1 Axes>"
      ]
     },
     "metadata": {},
     "output_type": "display_data"
    }
   ],
   "source": [
    "# Histogram of 'full_sq'\n",
    "df['full_sq'].hist(bins=100)"
   ]
  },
  {
   "cell_type": "code",
   "execution_count": 11,
   "metadata": {},
   "outputs": [
    {
     "data": {
      "text/plain": [
       "<Axes: >"
      ]
     },
     "execution_count": 11,
     "metadata": {},
     "output_type": "execute_result"
    },
    {
     "data": {
      "image/png": "[encoded data removed]",
      "text/plain": [
       "<Figure size 640x480 with 1 Axes>"
      ]
     },
     "metadata": {},
     "output_type": "display_data"
    }
   ],
   "source": [
    "df['life_sq'][df['life_sq'] < 300].plot(kind='box')"
   ]
  },
  {
   "cell_type": "code",
   "execution_count": null,
   "metadata": {},
   "outputs": [],
   "source": []
  }
 ],
 "metadata": {
  "kernelspec": {
   "display_name": "Python 3",
   "language": "python",
   "name": "python3"
  },
  "language_info": {
   "codemirror_mode": {
    "name": "ipython",
    "version": 3
   },
   "file_extension": ".py",
   "mimetype": "text/x-python",
   "name": "python",
   "nbconvert_exporter": "python",
   "pygments_lexer": "ipython3",
   "version": "3.11.3"
  }
 },
 "nbformat": 4,
 "nbformat_minor": 2
}
