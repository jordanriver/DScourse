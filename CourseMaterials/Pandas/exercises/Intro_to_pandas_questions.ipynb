{
 "cells": [
  {
   "cell_type": "markdown",
   "metadata": {},
   "source": [
    "Certainly! Here are the questions based on the provided learning material:\n",
    "\n",
    "---\n",
    "\n",
    "### Questions for Part 2: Data Manipulation with Pandas\n",
    "\n",
    "1. What are the primary functions of Pandas?\n",
    "2. How can you select a specific column from a DataFrame?\n",
    "3. How would you select rows from a DataFrame based on a condition?\n",
    "4. What function would you use to calculate the average of a column in a DataFrame?\n",
    "5. How can you add a new column to an existing DataFrame?\n",
    "6. How do you modify the values of an existing column in a DataFrame?\n",
    "7. What is the output of `df['Name']` given the provided DataFrame example?\n",
    "8. How would you select rows where the 'City' is 'New York'?\n",
    "9. What function can be used to count the number of non-NA/null values in a column?\n",
    "10. How can you filter rows in a DataFrame where 'Age' is less than 30?\n",
    "11. How do you aggregate data in Pandas?\n",
    "12. What is the result of `df['Age'].sum()` given the provided DataFrame example?\n",
    "13. How can you rename a column in a DataFrame?\n",
    "14. How do you select multiple columns from a DataFrame?\n",
    "15. How would you filter rows based on multiple conditions, e.g., 'Age' greater than 25 and 'City' is 'San Francisco'?\n",
    "16. What is the purpose of the `mean()` function in Pandas?\n",
    "17. How can you delete a column from a DataFrame?\n",
    "18. How do you access the last row of a DataFrame?\n",
    "19. How can you reset the index of a DataFrame?\n",
    "20. How would you group data in a DataFrame based on a specific column?\n",
    "21. How can you sort a DataFrame based on a specific column?\n",
    "22. What is the difference between `loc` and `iloc` in Pandas?\n",
    "23. How do you set a specific column as the index of a DataFrame?\n",
    "24. How can you concatenate two DataFrames vertically?\n",
    "25. How would you apply a custom function to a column in a DataFrame?\n",
    "\n",
    "---\n",
    "\n",
    "### Questions for Part 3: Reading and Writing Data with Pandas\n",
    "\n",
    "1. How can you read data from a CSV file using Pandas?\n",
    "2. What function is used to write a DataFrame to an Excel file?\n",
    "3. How do you ensure that the index is not written to the output file when saving a DataFrame to Excel?\n",
    "4. Can Pandas read data from SQL databases? If yes, how?\n",
    "5. In which other file formats (apart from CSV and Excel) can Pandas read/write data?\n",
    "\n",
    "---"
   ]
  }
 ],
 "metadata": {
  "language_info": {
   "name": "python"
  },
  "orig_nbformat": 4
 },
 "nbformat": 4,
 "nbformat_minor": 2
}
