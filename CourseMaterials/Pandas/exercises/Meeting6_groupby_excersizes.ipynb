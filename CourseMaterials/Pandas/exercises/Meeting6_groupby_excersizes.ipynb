{
 "cells": [
  {
   "cell_type": "markdown",
   "metadata": {},
   "source": [
    "# Meeting 6: Groupby Exercises\n",
    "\n",
    "\n",
    "### Easy Questions\n",
    "1. How can you group the dataset by `gender`?\n",
    "2. Write a query to find the average `height` by `gender`.\n",
    "3. How can you find the maximum `weight` in each `gender` group?\n",
    "4. Show the count of entries for each `gender`.\n",
    "5. What is the minimum `height` for each `gender` group?\n",
    "6. How do you find the total sum of `weight` for each `gender`?\n",
    "7. Demonstrate how to group by `gender` and get the median `height`.\n",
    "8. Can you find the standard deviation of `weight` within each `gender` group?\n",
    "9. Illustrate how to group by `gender` and describe the `height` statistics.\n",
    "10. How would you group by `gender` and get the first entry in each group?\n",
    "\n",
    "### Medium Questions\n",
    "11. How do you compute the average `weight` for each unique height within each `gender`?\n",
    "12. Can you calculate the difference between the maximum and minimum `weight` for each `gender`?\n",
    "13. How would you find the top 3 heaviest `weights` within each `gender` group?\n",
    "14. Show how to group by `gender` and get the range of `heights` in each group.\n",
    "15. How do you compute the average `weight` for each `gender`, filtering out outliers (defined as weights beyond 2 standard deviations)?\n",
    "16. Demonstrate grouping by `gender` and calculating the percentile rank of `heights` in each group.\n",
    "17. How would you find the correlation between `weight` and `height` within each `gender` group?\n",
    "18. Can you show the count of unique `height` values in each `gender` group?\n",
    "19. How do you group by `gender` and compute a cumulative sum of `weight`?\n",
    "20. Illustrate how to group by `gender` and find the `height` that appears most frequently in each group.\n",
    "\n",
    "### Hard Questions\n",
    "21. How do you apply a custom function to normalize `weight` within each `gender` group?\n",
    "22. Can you create a pivot table showing the average `weight` for each combination of `height` and `gender`?\n",
    "23. Demonstrate how to calculate the weighted average of `height` within each `gender` group, using `weight` as the weights.\n",
    "24. How would you group by `gender` and apply a function that labels each entry as 'above_average' or 'below_average' based on `weight`?\n",
    "25. Can you find the `gender` group with the highest variance in `height`?\n",
    "26. How do you group by `gender` and calculate the skewness of the `weight` distribution in each group?\n",
    "27. Illustrate how to create a new column that ranks `weight` within each `gender` group.\n",
    "28. Show how to group by `gender` and apply multiple aggregate functions on `height` and `weight` simultaneously.\n",
    "29. Can you perform a groupby operation that groups by `gender` and bins `height` into categories (short, medium, tall) before calculating average `weight` in each category?\n",
    "30. Demonstrate how to use groupby with `gender` to identify outliers in `height` (defined as values that are more than 2.5 standard deviations from the mean) within each group."
   ]
  }
 ],
 "metadata": {
  "language_info": {
   "name": "python"
  }
 },
 "nbformat": 4,
 "nbformat_minor": 2
}
