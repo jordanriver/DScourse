{
 "cells": [
  {
   "cell_type": "code",
   "execution_count": 1,
   "metadata": {},
   "outputs": [],
   "source": [
    "from sklearn.impute import SimpleImputer\n",
    "from sklearn.preprocessing import OneHotEncoder\n",
    "from sklearn.base import BaseEstimator, TransformerMixin\n",
    "from sklearn.pipeline import Pipeline\n",
    "from sklearn.compose import ColumnTransformer\n",
    "\n",
    "\n",
    "def main():\n",
    "    pass\n",
    "\n",
    "\n",
    "def get_feature_names(column_transformer):\n",
    "    \"\"\"Get feature names from a ColumnTransformer\"\"\"\n",
    "    output_features = []\n",
    "\n",
    "    for name, transformer, original_features in column_transformer.transformers_:\n",
    "        if name == \"remainder\":  # Skip the 'remainder' transformer, if present\n",
    "            continue\n",
    "\n",
    "        if hasattr(transformer, \"get_feature_names_out\"):\n",
    "            # For transformers with a get_feature_names_out method (OneHotEncoder)\n",
    "            transformer_features = transformer.get_feature_names_out(original_features)\n",
    "        else:\n",
    "            # Transformers without get_feature_names_out (SimpleImputer)\n",
    "            transformer_features = original_features\n",
    "\n",
    "        output_features.extend(transformer_features)\n",
    "\n",
    "    return output_features\n",
    "\n",
    "\n",
    "if __name__ == \"__main__\":\n",
    "    main()"
   ]
  }
 ],
 "metadata": {
  "kernelspec": {
   "display_name": "Python 3",
   "language": "python",
   "name": "python3"
  },
  "language_info": {
   "codemirror_mode": {
    "name": "ipython",
    "version": 3
   },
   "file_extension": ".py",
   "mimetype": "text/x-python",
   "name": "python",
   "nbconvert_exporter": "python",
   "pygments_lexer": "ipython3",
   "version": "3.12.0"
  }
 },
 "nbformat": 4,
 "nbformat_minor": 2
}
