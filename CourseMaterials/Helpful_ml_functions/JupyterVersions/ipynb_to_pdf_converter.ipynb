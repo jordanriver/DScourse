{
 "cells": [
  {
   "cell_type": "code",
   "execution_count": 1,
   "id": "420cd3fd",
   "metadata": {},
   "outputs": [],
   "source": [
    "import nbformat\n",
    "from nbconvert import PDFExporter\n",
    "import os\n",
    "from traitlets.config import Config\n",
    "import uuid\n",
    "\n",
    "def convert_ipynb_to_pdf(source_file_path, output_directory):\n",
    "    # Ensure the source file exists\n",
    "    if not os.path.isfile(source_file_path):\n",
    "        print(\"File not found: \", source_file_path)\n",
    "        return\n",
    "\n",
    "    # Ensure the output directory exists, create if it doesn't\n",
    "    if not os.path.exists(output_directory):\n",
    "        os.makedirs(output_directory)\n",
    "\n",
    "    # Load the notebook\n",
    "    with open(source_file_path, \"r\", encoding=\"utf-8\") as file:\n",
    "        nb = nbformat.read(file, as_version=4)\n",
    "\n",
    "    # Add a unique identifier to each output file name\n",
    "    for cell in nb.cells:\n",
    "        if \"outputs\" in cell:\n",
    "            for output in cell[\"outputs\"]:\n",
    "                if \"filename\" in output.get(\"metadata\", {}):\n",
    "                    unique_id = str(uuid.uuid4())\n",
    "                    original_filename = output[\"metadata\"][\"filename\"]\n",
    "                    unique_filename = f\"{unique_id}_{original_filename}\"\n",
    "                    output[\"metadata\"][\"filename\"] = unique_filename\n",
    "\n",
    "    # Convert to PDF\n",
    "    pdf_exporter = PDFExporter()\n",
    "    pdf_exporter.exclude_input = False\n",
    "\n",
    "    # Export to PDF\n",
    "    body, _ = pdf_exporter.from_notebook_node(nb)\n",
    "\n",
    "    # Write to a PDF file in the specified output directory\n",
    "    pdf_file_name = os.path.basename(source_file_path).replace(\".ipynb\", \".pdf\")\n",
    "    pdf_file_path = os.path.join(output_directory, pdf_file_name)\n",
    "\n",
    "    with open(pdf_file_path, \"wb\") as file:\n",
    "        file.write(body)\n",
    "    print(\"Converted to PDF: \", pdf_file_path)\n",
    "\n",
    "\n",
    "# Example usage\n",
    "# convert_ipynb_to_pdf_with_unique_output('path_to_your_notebook.ipynb', 'your_output_directory')"
   ]
  },
  {
   "cell_type": "code",
   "execution_count": 2,
   "id": "f88c20f9",
   "metadata": {},
   "outputs": [
    {
     "name": "stdout",
     "output_type": "stream",
     "text": [
      "Converted to PDF:  C:\\Users\\jorda\\Documents\\studies\\DScourse\\Homework\\PDF\\ipynb_to_pdf_converter.pdf\n"
     ]
    }
   ],
   "source": [
    "convert_ipynb_to_pdf(\n",
    "    source_file_path=\n",
    "    r\"C:\\Users\\jorda\\Documents\\studies\\DScourse\\CourseMaterials\\Helpful_ml_functions\\JupyterVersions\\ipynb_to_pdf_converter.ipynb\",\n",
    "    output_directory=\n",
    "    r\"C:\\Users\\jorda\\Documents\\studies\\DScourse\\Homework\\PDF\"\n",
    "    )"
   ]
  }
 ],
 "metadata": {
  "kernelspec": {
   "display_name": "Python 3",
   "language": "python",
   "name": "python3"
  },
  "language_info": {
   "codemirror_mode": {
    "name": "ipython",
    "version": 3
   },
   "file_extension": ".py",
   "mimetype": "text/x-python",
   "name": "python",
   "nbconvert_exporter": "python",
   "pygments_lexer": "ipython3",
   "version": "3.12.0"
  }
 },
 "nbformat": 4,
 "nbformat_minor": 5
}
