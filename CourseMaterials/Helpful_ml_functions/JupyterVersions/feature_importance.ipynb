{
 "cells": [
  {
   "cell_type": "code",
   "execution_count": null,
   "metadata": {},
   "outputs": [],
   "source": [
    "import pandas as pd\n",
    "import matplotlib.pyplot as plt\n",
    "from sklearn.ensemble import RandomForestRegressor\n",
    "\n",
    "def plot_top_n_importance(DataFrame, model, top_n):\n",
    "    \"\"\"\n",
    "    Display the top N feature importances of a model.\n",
    "\n",
    "    Arguments:\n",
    "    DataFrame (pd.DataFrame): The dataframe used to train the model.\n",
    "    model: The trained model with feature importance attribute.\n",
    "    top_n (int): Number of top features to display.\n",
    "\n",
    "    Returns:\n",
    "    None. Displays a plot of top N feature importances.\n",
    "    \"\"\"\n",
    "    # Extract feature importances\n",
    "    feature_importances = model.feature_importances_\n",
    "\n",
    "    # Create a series with feature importances\n",
    "    feature_importances = pd.Series(feature_importances, index=DataFrame.columns)\n",
    "\n",
    "    # Sort and select the top N importances\n",
    "    importances_sorted = feature_importances.sort_values(ascending=False)[:top_n]\n",
    "\n",
    "    # Plot the top N feature importances\n",
    "    plt.figure(figsize=(10, top_n * 0.5))  # Adjust the size based on number of features\n",
    "    importances_sorted.plot(kind=\"barh\", color=\"skyblue\")\n",
    "    plt.title(f\"Top {top_n} Feature Importances\")\n",
    "    plt.show()"
   ]
  },
  {
   "cell_type": "code",
   "execution_count": 1,
   "metadata": {},
   "outputs": [
    {
     "name": "stdout",
     "output_type": "stream",
     "text": [
      "Converted to PDF:  C:\\Users\\jorda\\Documents\\studies\\DScourse\\Homework\\PDF\\feature_importance.pdf\n"
     ]
    }
   ],
   "source": [
    "from ipynb_converter import convert_ipynb_to_pdf\n",
    "\n",
    "convert_ipynb_to_pdf(\n",
    "    source_file_path=\n",
    "    r\"C:\\Users\\jorda\\Documents\\studies\\DScourse\\CourseMaterials\\Helpful_ml_functions\\JupyterVersions\\feature_importance.ipynb\",\n",
    "    output_directory=\n",
    "    r\"C:\\Users\\jorda\\Documents\\studies\\DScourse\\Homework\\PDF\",\n",
    "    )"
   ]
  }
 ],
 "metadata": {
  "kernelspec": {
   "display_name": "Python 3",
   "language": "python",
   "name": "python3"
  },
  "language_info": {
   "codemirror_mode": {
    "name": "ipython",
    "version": 3
   },
   "file_extension": ".py",
   "mimetype": "text/x-python",
   "name": "python",
   "nbconvert_exporter": "python",
   "pygments_lexer": "ipython3",
   "version": "3.12.0"
  }
 },
 "nbformat": 4,
 "nbformat_minor": 2
}
