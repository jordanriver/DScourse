{
 "cells": [
  {
   "cell_type": "code",
   "execution_count": 1,
   "metadata": {},
   "outputs": [],
   "source": [
    "import pandas as pd\n",
    "from sklearn.ensemble import RandomForestRegressor\n",
    "from sklearn.metrics import mean_squared_error\n",
    "\n",
    "\n",
    "def main():\n",
    "    pass\n",
    "\n",
    "\n",
    "def feature_selection_score(\n",
    "    n_features, importance_frame, X_train_frame, y_train, X_test_frame, y_test, base_mse\n",
    "):\n",
    "    \"\"\"A function that calculates MSE scores from models with number of features in the range of n_features.\n",
    "    These scores are assigned to a MSE list. The function also calculates score differences from a score of a base model\n",
    "    and assigns them to a second list. Both lists are returned as a dictionary with the following keys:\n",
    "    'mse_list', 'mse_differences'.\n",
    "    \"\"\"\n",
    "    mse_list = []\n",
    "    mse_differences = []\n",
    "\n",
    "    # Create a new RF model\n",
    "    rf_enhanced_model = RandomForestRegressor(random_state=42)\n",
    "\n",
    "    for n in n_features:\n",
    "        # Choose the n most important features from feature_importance_sorted\n",
    "        chosen_features = importance_frame.head(n).index\n",
    "\n",
    "        # Define the new X_train to fit the model with the top n features\n",
    "        X_train_new = X_train_frame[chosen_features]\n",
    "\n",
    "        # Train the model\n",
    "        rf_enhanced_model.fit(X_train_new, y_train)\n",
    "\n",
    "        # Define the new X_test to predict the target with the top n features\n",
    "        X_test_new = X_test_frame[chosen_features]\n",
    "\n",
    "        # Predict via X_test_new\n",
    "        y_pred_enhanced = rf_enhanced_model.predict(X_test_new)\n",
    "\n",
    "        # Calculate score for model\n",
    "        mse_enhanced = mean_squared_error(y_pred=y_pred_enhanced, y_true=y_test)\n",
    "        mse_difference = base_mse - mse_enhanced\n",
    "        mse_list.append(mse_enhanced)\n",
    "        mse_differences.append(mse_difference)\n",
    "    return {\"mse_list\": mse_list, \"mse_differences\": mse_differences}\n",
    "\n",
    "\n",
    "if __name__ == \"__main__\":\n",
    "    main()"
   ]
  }
 ],
 "metadata": {
  "kernelspec": {
   "display_name": "Python 3",
   "language": "python",
   "name": "python3"
  },
  "language_info": {
   "codemirror_mode": {
    "name": "ipython",
    "version": 3
   },
   "file_extension": ".py",
   "mimetype": "text/x-python",
   "name": "python",
   "nbconvert_exporter": "python",
   "pygments_lexer": "ipython3",
   "version": "3.12.0"
  }
 },
 "nbformat": 4,
 "nbformat_minor": 2
}
