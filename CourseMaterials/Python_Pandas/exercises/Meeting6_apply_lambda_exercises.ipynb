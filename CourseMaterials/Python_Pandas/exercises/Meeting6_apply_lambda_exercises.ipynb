{
 "cells": [
  {
   "cell_type": "markdown",
   "metadata": {},
   "source": [
    "# Meeting 6: `apply` and `lambda` Exercises\n",
    "\n",
    "\n",
    "### Easy Questions\n",
    "1. How do you use `apply` with a lambda function to add 10 to each `weight` value?\n",
    "2. Write a query to convert all `height` values from centimeters to inches using `apply`.\n",
    "3. How can you use a lambda function to categorize `weight` into 'light' and 'heavy'?\n",
    "4. Show how to use `apply` to calculate the Body Mass Index (BMI) for each row.\n",
    "5. Can you convert `gender` values to uppercase using `apply` and a lambda function?\n",
    "6. Demonstrate how to use `apply` to round off all `height` values to the nearest integer.\n",
    "7. How do you use a lambda function to classify `height` into 'short', 'medium', and 'tall'?\n",
    "8. Write a lambda function within `apply` to subtract the mean `weight` from each weight value.\n",
    "9. Show how to use `apply` to create a new column indicating if `weight` is above average.\n",
    "10. Can you use a lambda function to calculate the weight-to-height ratio for each row?\n",
    "\n",
    "### Medium Questions\n",
    "11. How do you use `apply` with a lambda function to standardize (z-score) `weight` values?\n",
    "12. Write a query using `apply` to find the difference between each `weight` and the max weight.\n",
    "13. Can you create a new column that shows 'weight' as a percentage of the highest `weight` using `apply`?\n",
    "14. Demonstrate how to use `apply` with a lambda to categorize `height` based on quartiles.\n",
    "15. How do you use `apply` to create a new column that indicates if each person is over or under 6 feet tall?\n",
    "16. Can you use a lambda function to identify outliers in `weight` (outside 1.5 IQR)?\n",
    "17. Show how to use `apply` to count the number of characters in each `gender` value.\n",
    "18. Write a lambda function within `apply` to convert `weight` from pounds to kilograms.\n",
    "19. How do you apply a lambda function to categorize BMI into underweight, normal, overweight, and obese?\n",
    "20. Can you use `apply` to create a new column indicating whether each individual's `weight` is in the top 10% of the dataset?\n",
    "\n",
    "### Hard Questions\n",
    "21. How do you use `apply` with a lambda function to implement a custom weight normalization (min-max scaling)?\n",
    "22. Can you write a complex lambda function within `apply` to calculate the lean body mass (using a formula that requires both `weight` and `height`)?\n",
    "23. Demonstrate how to use `apply` with a lambda to replace `gender` values based on conditions applied to `weight` and `height`.\n",
    "24. Write a query using `apply` to calculate the Euclidean distance of each individual’s `weight` and `height` from the dataset's mean weight and height.\n",
    "25. Can you use a lambda function to generate a unique ID for each row combining the first letter of `gender` with a sequential number?\n",
    "26. Show how to use `apply` with a lambda function to create a 'health_score' based on a custom formula involving `weight` and `height`.\n",
    "27. How do you use `apply` to find the percentile rank of `weight` and `height` together in each row?\n",
    "28. Can you use a lambda function to detect and mark which rows have `weight` and `height` values that are both above their respective medians?\n",
    "29. Write a lambda function within `apply` to calculate a 'fitness index' based on a complex formula using `weight`, `height`, and `gender`.\n",
    "30. Demonstrate how to use `apply` with lambda functions to perform a conditional transformation (e.g., add a fixed value to `weight` if `gender` is male, else subtract it)."
   ]
  }
 ],
 "metadata": {
  "language_info": {
   "name": "python"
  }
 },
 "nbformat": 4,
 "nbformat_minor": 2
}
